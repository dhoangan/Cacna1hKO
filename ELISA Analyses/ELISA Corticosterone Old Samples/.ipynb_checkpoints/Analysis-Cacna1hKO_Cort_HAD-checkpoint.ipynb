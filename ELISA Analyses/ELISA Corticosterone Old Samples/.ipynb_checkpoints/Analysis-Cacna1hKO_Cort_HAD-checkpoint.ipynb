{
 "cells": [
  {
   "cell_type": "code",
   "execution_count": 1,
   "metadata": {},
   "outputs": [],
   "source": [
    "import numpy as np\n",
    "import numpy.random as npr\n",
    "import matplotlib.pyplot as plt\n",
    "from scipy.optimize import leastsq\n",
    "from scipy.stats import mannwhitneyu\n",
    "import pandas as pd\n",
    "import seaborn as sns\n",
    "\n",
    "color_palette = sns.color_palette(\"colorblind\")\n",
    "sns.set_theme(palette=color_palette, font=\"Arial\", font_scale=1.0, style=\"white\")\n",
    "plt.style.use('../../../../mpl_style_template/paper.mplstyle')"
   ]
  },
  {
   "cell_type": "code",
   "execution_count": 2,
   "metadata": {},
   "outputs": [],
   "source": [
    "#styles for error and markers in sns.lineplot\n",
    "\n",
    "thin_custom_lw = 1.2\n",
    "custom_lw = thin_custom_lw/0.65\n",
    "\n",
    "filled_marker_style = dict(marker='o',  markersize=5,\n",
    "                           color='k',\n",
    "                           markerfacecolor='w',\n",
    "                           markeredgecolor='k',\n",
    "                          markeredgewidth=thin_custom_lw)\n",
    "\n",
    "filled_marker_style_white = dict(marker='o',  markersize=5,\n",
    "                           color='w',\n",
    "                           markerfacecolor='w',\n",
    "                           markeredgecolor='w',\n",
    "                          markeredgewidth=custom_lw)\n",
    "######################\n",
    "\n",
    "error_style_white = {\"capsize\": 4.4, \n",
    "                \"ecolor\": \"w\",\n",
    "               \"barsabove\":False, \n",
    "               \"elinewidth\":custom_lw, \n",
    "               \"capthick\":custom_lw,\n",
    "                    \"zorder\": 8}\n",
    "\n",
    "error_style = {\"capsize\": 4, \n",
    "                \"ecolor\": \"k\",\n",
    "                \"barsabove\":False, \n",
    "                \"elinewidth\":thin_custom_lw, \n",
    "                \"capthick\":thin_custom_lw,\n",
    "                \"zorder\": 9}\n",
    "\n",
    "# number of iterations and seed for bootstrapping during calculation of confidence intervals\n",
    "n_boot = 10000\n",
    "seed = 10"
   ]
  },
  {
   "cell_type": "code",
   "execution_count": 3,
   "metadata": {},
   "outputs": [],
   "source": [
    "def logistic4(x, A, B, C, D):\n",
    "    \"\"\"4PL logistic equation.\"\"\"\n",
    "    return ((A-D)/(1.0+((x/C)**B))) + D\n",
    "\n",
    "def residuals(p, y, x):\n",
    "    \"\"\"Deviations of data from fitted 4PL curve\"\"\"\n",
    "    A,B,C,D = p\n",
    "    err = y-logistic4(x, A, B, C, D)\n",
    "    return err\n",
    "\n",
    "def peval(x, p):\n",
    "    \"\"\"Evaluated value at x with current parameters.\"\"\"\n",
    "    A,B,C,D = p\n",
    "    return logistic4(x, A, B, C, D)\n",
    "    \n",
    "def get_x(y, p, dilution):\n",
    "    A = p[0]\n",
    "    B = p[1]\n",
    "    C = p[2]\n",
    "    D = p[3]\n",
    "    return (C*((((A-D)/(y-D))-1)**(1/B))) *dilution\n"
   ]
  },
  {
   "cell_type": "markdown",
   "metadata": {},
   "source": [
    "Corticosterone ELISA"
   ]
  },
  {
   "cell_type": "code",
   "execution_count": 4,
   "metadata": {
    "scrolled": true
   },
   "outputs": [
    {
     "name": "stderr",
     "output_type": "stream",
     "text": [
      "C:\\Users\\dinhha\\AppData\\Local\\Temp\\ipykernel_7260\\9199140.py:3: RuntimeWarning: divide by zero encountered in reciprocal\n",
      "  return ((A-D)/(1.0+((x/C)**B))) + D\n",
      "C:\\Users\\dinhha\\AppData\\Local\\Temp\\ipykernel_7260\\9199140.py:3: RuntimeWarning: divide by zero encountered in power\n",
      "  return ((A-D)/(1.0+((x/C)**B))) + D\n",
      "C:\\Users\\dinhha\\AppData\\Local\\Temp\\ipykernel_7260\\9199140.py:3: RuntimeWarning: invalid value encountered in power\n",
      "  return ((A-D)/(1.0+((x/C)**B))) + D\n",
      "C:\\Users\\dinhha\\AppData\\Local\\anaconda3\\lib\\site-packages\\scipy\\optimize\\_minpack_py.py:492: RuntimeWarning: Number of calls to function has reached maxfev = 1000.\n",
      "  warnings.warn(errors[info][0], RuntimeWarning)\n"
     ]
    }
   ],
   "source": [
    "raw_data = pd.read_csv(\"Cacna1h_KO_Cort.csv\")\n",
    "\n",
    "\n",
    "cal_conc = [0, 5, 15, 30, 60, 120]\n",
    "calibration = {}\n",
    "\n",
    "genotypes = raw_data.Genotype.unique()\n",
    "raw_data[\"Concentration\"] = 0\n",
    "\n",
    "#exclude_animals =  [] # ggf. 4035\n",
    "#exclude_cohorts = [\"1\", \"2\", \"3\"]\n",
    "\n",
    "# Exclude animals from exclude_animals list\n",
    "#mask = data['Animal'].isin(exclude_animals)\n",
    "#data = data[~mask]\n",
    "\n",
    "\n",
    "# Initial guess for parameters\n",
    "p0 = [-1, -1, 1, 1]\n",
    "\n",
    "\n",
    "\n",
    "\n",
    "# Calibrate and calculate concentrations\n",
    "raw_data[\"Calibration\"] = raw_data.apply(lambda row: leastsq(residuals, p0, args=([row.Cal0, row.Cal5, row.Cal15, row.Cal30, row.Cal60, row.Cal120], cal_conc)), axis=1)\n",
    "\n",
    "\n",
    "\n",
    "raw_data[\"Concentration\"] = raw_data.apply(lambda row: get_x(row.OD, row.Calibration[0], row.dilution_factor), axis=1)\n",
    "raw_data.loc[raw_data.OD>2.725, \"Concentration\"] = 0\n",
    "\n",
    "data = raw_data.groupby([\"Animal\"]).agg({'Genotype': 'first',\n",
    "                                        'Concentration': 'mean',\n",
    "                                        \"dilution_factor\": \"first\"}).reset_index()"
   ]
  },
  {
   "cell_type": "code",
   "execution_count": 5,
   "metadata": {},
   "outputs": [],
   "source": [
    "## Data curation\n",
    "\n",
    "#data = data.drop_duplicates(subset=[\"Animal\", \"Genotype\", \"time\"], ignore_index=True)\n",
    "\n"
   ]
  },
  {
   "cell_type": "code",
   "execution_count": 6,
   "metadata": {},
   "outputs": [
    {
     "name": "stderr",
     "output_type": "stream",
     "text": [
      "C:\\Users\\dinhha\\AppData\\Local\\Temp\\ipykernel_7260\\9199140.py:3: RuntimeWarning: divide by zero encountered in power\n",
      "  return ((A-D)/(1.0+((x/C)**B))) + D\n",
      "C:\\Users\\dinhha\\AppData\\Local\\Temp\\ipykernel_7260\\9199140.py:3: RuntimeWarning: invalid value encountered in power\n",
      "  return ((A-D)/(1.0+((x/C)**B))) + D\n",
      "C:\\Users\\dinhha\\AppData\\Local\\anaconda3\\lib\\site-packages\\scipy\\optimize\\_minpack_py.py:492: RuntimeWarning: Number of calls to function has reached maxfev = 1000.\n",
      "  warnings.warn(errors[info][0], RuntimeWarning)\n"
     ]
    },
    {
     "data": {
      "image/png": "[encoded data removed]",
      "text/plain": [
       "<Figure size 200x200 with 1 Axes>"
      ]
     },
     "metadata": {},
     "output_type": "display_data"
    }
   ],
   "source": [
    "for date in raw_data.Date.unique():\n",
    "    animal = raw_data[raw_data.Date == date].Animal.unique()[0]\n",
    "\n",
    "    data_animal = raw_data[raw_data.Animal == animal].reset_index()\n",
    "    cal_data = [data_animal.Cal0[0], data_animal.Cal5[0], data_animal.Cal15[0], data_animal.Cal30[0], \n",
    "                data_animal.Cal60[0], data_animal.Cal120[0]]\n",
    "\n",
    "    x = cal_conc\n",
    "    y_meas = cal_data\n",
    "\n",
    "    # Initial guess for parameters\n",
    "    p0 = [-.5, -1.5, 1.5, 1.5]\n",
    "\n",
    "    # Fit equation using least squares optimization\n",
    "    plsq = leastsq(residuals, p0, args=(y_meas, x))\n",
    "\n",
    "    # Plot results\n",
    "    x_hr = range(0,240,1)\n",
    "    plt.figure(figsize=(2,2))\n",
    "    plt.plot(x_hr,peval(x_hr,plsq[0]),x, y_meas,'o')\n",
    "    plt.title(f'Least-squares 4PL fit for date {date}')\n",
    "    plt.legend(['Fit', 'Value'], loc='upper right')\n",
    "    #plt.semilogx()\n",
    "    plt.show()\n",
    "    \n",
    "    calibration[animal] = plsq[0]\n"
   ]
  },
  {
   "cell_type": "code",
   "execution_count": 7,
   "metadata": {},
   "outputs": [
    {
     "data": {
      "text/plain": [
       "MannwhitneyuResult(statistic=141.0, pvalue=0.6234860773683975)"
      ]
     },
     "execution_count": 7,
     "metadata": {},
     "output_type": "execute_result"
    }
   ],
   "source": [
    "wt_values = data[data.Genotype==\"WT\"].Concentration.values\n",
    "ko_values = data[data.Genotype==\"KO\"].Concentration.values\n",
    "\n",
    "mannwhitneyu(wt_values, ko_values)"
   ]
  },
  {
   "cell_type": "code",
   "execution_count": 8,
   "metadata": {},
   "outputs": [
    {
     "data": {
      "text/plain": [
       "Text(22.0, 0.5, 'Concentration (nmol/l)')"
      ]
     },
     "execution_count": 8,
     "metadata": {},
     "output_type": "execute_result"
    },
    {
     "data": {
      "image/png": "[encoded data removed]",
      "text/plain": [
       "<Figure size 500x500 with 1 Axes>"
      ]
     },
     "metadata": {},
     "output_type": "display_data"
    }
   ],
   "source": [
    "sns.catplot(data=data, x=\"Genotype\", y=\"Concentration\", kind=\"box\")\n",
    "sns.swarmplot(data=data, x=\"Genotype\", y=\"Concentration\", color=\"black\")\n",
    "plt.ylabel(\"Concentration (nmol/l)\")"
   ]
  },
  {
   "cell_type": "code",
   "execution_count": 9,
   "metadata": {},
   "outputs": [
    {
     "name": "stderr",
     "output_type": "stream",
     "text": [
      "C:\\Users\\dinhha\\AppData\\Local\\Temp\\ipykernel_7260\\2055810202.py:2: FutureWarning: Passing `palette` without assigning `hue` is deprecated.\n",
      "  g = sns.swarmplot(data=data, x=\"Genotype\", y=\"Concentration\",\n"
     ]
    },
    {
     "data": {
      "image/png": "[encoded data removed]",
      "text/plain": [
       "<Figure size 200x200 with 1 Axes>"
      ]
     },
     "metadata": {},
     "output_type": "display_data"
    }
   ],
   "source": [
    "fig, g = plt.subplots(figsize=(2, 2))\n",
    "g = sns.swarmplot(data=data, x=\"Genotype\", y=\"Concentration\",\n",
    "                   order= [\"WT\", \"KO\"],\n",
    "                 palette=[color_palette[0], color_palette[1]],\n",
    "                 s=4, zorder=2, legend=False)\n",
    "\n",
    "g = sns.lineplot(data=data, x=\"Genotype\", y=\"Concentration\",\n",
    "                 lw=0,\n",
    "             errorbar=(\"ci\",95),\n",
    "             n_boot=n_boot, seed=seed,\n",
    "             zorder=3,  \n",
    "             err_style=\"bars\", \n",
    "             err_kws=error_style_white, \n",
    "             fillstyle=\"full\", \n",
    "             **filled_marker_style_white)\n",
    "             \n",
    "    \n",
    "g = sns.lineplot(data=data, x=\"Genotype\", y=\"Concentration\",\n",
    "                 lw=0,\n",
    "             errorbar=(\"ci\",95),\n",
    "             n_boot=n_boot, seed=seed,\n",
    "             zorder=10,  \n",
    "             err_style=\"bars\",\n",
    "             err_kws=error_style,\n",
    "             fillstyle=\"full\", \n",
    "             **filled_marker_style)\n",
    "\n",
    "g.spines['right'].set_visible(False)\n",
    "g.spines['top'].set_visible(False)\n",
    "plt.xlim([-0.5, 1.5])\n",
    "\n",
    "plt.ylabel(\"Concentration (nmol/l)\")\n",
    "plt.savefig(\"Cort_old_Swarmplot.png\")\n",
    "plt.savefig(\"Cort_old_Swarmplot.svg\")"
   ]
  },
  {
   "cell_type": "code",
   "execution_count": null,
   "metadata": {},
   "outputs": [],
   "source": []
  }
 ],
 "metadata": {
  "kernelspec": {
   "display_name": "Python 3 (ipykernel)",
   "language": "python",
   "name": "python3"
  },
  "language_info": {
   "codemirror_mode": {
    "name": "ipython",
    "version": 3
   },
   "file_extension": ".py",
   "mimetype": "text/x-python",
   "name": "python",
   "nbconvert_exporter": "python",
   "pygments_lexer": "ipython3",
   "version": "3.10.9"
  }
 },
 "nbformat": 4,
 "nbformat_minor": 4
}
