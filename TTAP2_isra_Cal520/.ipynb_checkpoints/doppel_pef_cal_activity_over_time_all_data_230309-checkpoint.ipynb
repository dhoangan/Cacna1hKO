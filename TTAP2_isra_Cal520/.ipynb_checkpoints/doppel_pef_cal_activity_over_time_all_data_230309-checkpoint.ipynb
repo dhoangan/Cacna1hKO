{
 "cells": [
  {
   "cell_type": "code",
   "execution_count": 1,
   "id": "9a10c28c",
   "metadata": {},
   "outputs": [],
   "source": [
    "import calim\n",
    "import matplotlib.pyplot as plt\n",
    "import seaborn as sns\n",
    "import pickle\n",
    "import pandas as pd\n",
    "import numpy as np\n",
    "import time\n",
    "import scipy\n",
    "from datetime import datetime\n",
    "\n",
    "import sys\n",
    "import os\n",
    "from pathlib import Path\n",
    "module_path = os.path.abspath(os.path.join('..'))\n",
    "\n",
    "if module_path not in sys.path:\n",
    "    sys.path.append(module_path+\"\\\\custom_functs\")\n",
    "\n",
    "from modules import customfunctions as cf\n",
    "\n",
    "# number of iterations and seed for bootstrapping during calculation of confidence intervals\n",
    "n_boot = 10000\n",
    "seed = 10\n",
    "\n",
    "color_palette = sns.color_palette(\"colorblind\")\n",
    "sns.set_theme(palette=color_palette, font=\"Arial\", font_scale=1.0, style=\"white\")\n"
   ]
  },
  {
   "cell_type": "code",
   "execution_count": 2,
   "id": "81230c85",
   "metadata": {},
   "outputs": [
    {
     "name": "stdout",
     "output_type": "stream",
     "text": [
      "Concatenate 4 files:\n",
      "doppel_perf_ctrl_cal_FebMar2023_230307.hdf\n",
      "doppel_perf_old_data_only_ctrl_230307.hdf\n",
      "doppel_perf_old_data_no_ctrl_230307.hdf\n",
      "doppel_perf_cal_FebMar2023_230309.hdf\n",
      "Done.\n"
     ]
    }
   ],
   "source": [
    "list_files = [\"doppel_perf_ctrl_cal_FebMar2023_230307.hdf\",\n",
    "              \"doppel_perf_old_data_only_ctrl_230307.hdf\",\n",
    "             \"doppel_perf_old_data_no_ctrl_230307.hdf\",\n",
    "             \"doppel_perf_cal_FebMar2023_230309.hdf\"]\n",
    "data_hdf = cf.concat_hdf_files(list_files)"
   ]
  },
  {
   "cell_type": "code",
   "execution_count": 3,
   "id": "14125ed0",
   "metadata": {},
   "outputs": [],
   "source": [
    "def get_binned_events(cell, start, end, bin_size, align=\"left\"):\n",
    "    st1 = time.time() # Get start time\n",
    "    \n",
    "    binned_events = np.array([])\n",
    "    \n",
    "    events = np.array(cell.get_event_list())\n",
    "    \n",
    "    \n",
    "    # Only consider those events between start and smaller than end\n",
    "    events = events[(events >= start) & (events < end)]\n",
    "    \n",
    "    if align == \"left\":\n",
    "        bins = np.array(list(range(start, end, bin_size)))\n",
    "        inds = np.digitize(events, bins)\n",
    "\n",
    "    if align == \"right\":\n",
    "        bins = np.flip(np.array(list(range(end, start, -bin_size))))\n",
    "\n",
    "        inds = np.digitize(events, bins, right=True)\n",
    "\n",
    "    \n",
    "    return_values = np.zeros(len(bins))\n",
    "    bin_unique, bin_counts = np.unique(inds, return_counts=True)\n",
    "    for i,x in enumerate(bin_unique):\n",
    "        if align == \"left\":\n",
    "            return_values[x-1] = bin_counts[i]\n",
    "        if align == \"right\":\n",
    "            return_values[x] = bin_counts[i]\n",
    "    \n",
    "    \n",
    "    if align == \"left\":\n",
    "        bins = np.append(bins, end)\n",
    "    elif align == \"right\":\n",
    "        bins = np.append(start, bins)\n",
    "    return return_values, bins"
   ]
  },
  {
   "cell_type": "code",
   "execution_count": 4,
   "id": "2d320e37",
   "metadata": {},
   "outputs": [
    {
     "name": "stdout",
     "output_type": "stream",
     "text": [
      "Processing 21 recordings\n",
      "Processing recording 1/21: 230223_slice05_500pM_AngII_ctrl_results.ome.csv\n",
      "Processing recording 2/21: 230224_slice02_500pM_AngII_ctrl_results.csv\n",
      "Processing recording 3/21: 230224_slice03_500pM_AngII_ctrl_results.csv\n",
      "Processing recording 4/21: 230227_slice01_500pM_AngII_ctrl_results.csv\n",
      "Processing recording 5/21: 230228_slice01_500pM_AngII_ctrl_results.csv\n",
      "Processing recording 6/21: 230302_slice03_500pM_AngII_ctrl_results.csv\n",
      "Processing recording 7/21: 230302_slice06_500pM_AngII_ctrl_results.csv\n",
      "Processing recording 8/21: 220601_slice03_rec01_ctrl_dp_results.csv\n",
      "Processing recording 9/21: 220603_slice03_rec01_ctrl_dp_results.csv\n",
      "Processing recording 10/21: 220607_slice03_rec01_ctrl_dp_results.csv\n",
      "Processing recording 11/21: 220610_slice03_rec01_ctrl_dp_results.csv\n",
      "Processing recording 12/21: 220601_slice01_rec01_5TTAP2_300isra_1_MMStack_Results.csv\n",
      "Processing recording 13/21: 220601_slice02_rec01_5TTAP2_300isra_1_MMStack_Results.csv\n",
      "Processing recording 14/21: 220603_slice01_rec01_5TTAP2_300isra_results.csv\n",
      "Processing recording 15/21: 220603_slice02_rec01_5TTAP2_300isra_results.csv\n",
      "Processing recording 16/21: 220607_slice01_rec01_5TTAP2_300isra_results.csv\n",
      "Processing recording 17/21: 220610_slice01_rec01_5TTAP2_300isra_results.csv\n",
      "Processing recording 18/21: 220610_slice02_rec01_5TTAP2_300isra_results.csv\n",
      "Processing recording 19/21: 230227_slice02_500pM_AngII_ttap2_isra_results.csv\n",
      "Processing recording 20/21: 230227_slice05_500pM_AngII_ttap2_isra_results.csv\n",
      "Processing recording 21/21: 230228_slice02_500pM_AngII_ttap2_isra_results.csv\n",
      "Done.\n"
     ]
    }
   ],
   "source": [
    "max_length = 16200 # maximum number of frames to consider\n",
    "\n",
    "data_left = pd.DataFrame()\n",
    "\n",
    "bin_size = 60 # Bin size in seconds\n",
    "\n",
    "n_rec = len(data_hdf.recordings)\n",
    "print(f\"Processing {n_rec} recordings\")\n",
    "\n",
    "for i, recording in enumerate(data_hdf.recordings):\n",
    "    print(f\"Processing recording {(i+1)}/{n_rec}: {recording}\")\n",
    "\n",
    "    r = data_hdf.recordings[recording]\n",
    "\n",
    "    info = {desc: r.information[desc] for desc in r.information}\n",
    "\n",
    "    for cell in r.cells:\n",
    "        c = r.cells[cell]\n",
    "\n",
    "        if c.use:\n",
    "            for con in r.conditions:\n",
    "                info[\"recording\"] = recording\n",
    "                info[\"start\"] = int(con.start)\n",
    "                info[\"end\"] = int(con.end)\n",
    "                info[\"cell\"] = cell\n",
    "                info[\"dt\"] = r.dt # Add \"dt\" aka seconds/frame\n",
    "                info.update({desc: con.information[desc] for desc in con.information}) # Add all further condition variables\n",
    "\n",
    "\n",
    "                if info[\"start\"] < max_length:  # only process conditions with a start < max_length\n",
    "                    if info[\"end\"] > max_length:  # if the end is longer than max_length\n",
    "                        info[\"end\"] = max_length  # set end to max_length\n",
    "\n",
    "                    #calculate actvity in last 2 min of each condition in  events/s\n",
    "                    frames_120s = int(120/r.dt)\n",
    "                    info[\"num_events_last120s\"]  = len(list(c.get_event(range(info[\"end\"]-frames_120s, info[\"end\"])))) # Number of events\n",
    "\n",
    "                    if info[\"num_events_last120s\"] == 0:\n",
    "                        info[\"num_events_last120s\"] = 0\n",
    "                        info[\"activity_last120s\"] = 0\n",
    "                    else:\n",
    "                        info[\"activity_last120s\"] =  info[\"num_events_last120s\"]/frames_120s/r.dt \n",
    "\n",
    "                    #calculate bins\n",
    "\n",
    "                    bin_count, bins = get_binned_events(c, info[\"start\"], info[\"end\"], int(bin_size/r.dt), align=\"left\")\n",
    "\n",
    "                    for i, bc in enumerate(bin_count):\n",
    "                        info[\"freq_left\"] = bc/(np.diff(bins)[i]*r.dt)\n",
    "                        info[\"bins_left\"] = bins[i]\n",
    "                        data_left = pd.concat((data_left, pd.DataFrame.from_dict(info, orient=\"index\").T), ignore_index=True)\n",
    "\n",
    "\n",
    "data_left['date'] = data_left['recording'].str[0:6]\n",
    "data_left['bins_left'] = data_left['bins_left'].astype(int)\n",
    "data_left['start'] = data_left['start'].astype(int)\n",
    "data_left['end'] = data_left['end'].astype(int)\n",
    "\n",
    "data_left = data_left.round({'bins_left': -1})\n",
    "data_left = data_left.round({'start': -1})\n",
    "data_left = data_left.round({'end': -1})\n",
    "\n",
    "data_left[\"bins_left_v2\"]=data_left[\"bins_left\"]-data_left[\"start\"]\n",
    "\n",
    "print(\"Done.\")"
   ]
  },
  {
   "cell_type": "code",
   "execution_count": 5,
   "id": "6896b131",
   "metadata": {},
   "outputs": [
    {
     "name": "stdout",
     "output_type": "stream",
     "text": [
      "Processing 21 recordings:\n",
      "Processing recording 1/21: 230223_slice05_500pM_AngII_ctrl_results.ome.csv\n",
      "Processing recording 2/21: 230224_slice02_500pM_AngII_ctrl_results.csv\n",
      "Processing recording 3/21: 230224_slice03_500pM_AngII_ctrl_results.csv\n",
      "Processing recording 4/21: 230227_slice01_500pM_AngII_ctrl_results.csv\n",
      "Processing recording 5/21: 230228_slice01_500pM_AngII_ctrl_results.csv\n",
      "Processing recording 6/21: 230302_slice03_500pM_AngII_ctrl_results.csv\n",
      "Processing recording 7/21: 230302_slice06_500pM_AngII_ctrl_results.csv\n",
      "Processing recording 8/21: 220601_slice03_rec01_ctrl_dp_results.csv\n",
      "Processing recording 9/21: 220603_slice03_rec01_ctrl_dp_results.csv\n",
      "Processing recording 10/21: 220607_slice03_rec01_ctrl_dp_results.csv\n",
      "Processing recording 11/21: 220610_slice03_rec01_ctrl_dp_results.csv\n",
      "Processing recording 12/21: 220601_slice01_rec01_5TTAP2_300isra_1_MMStack_Results.csv\n",
      "Processing recording 13/21: 220601_slice02_rec01_5TTAP2_300isra_1_MMStack_Results.csv\n",
      "Processing recording 14/21: 220603_slice01_rec01_5TTAP2_300isra_results.csv\n",
      "Processing recording 15/21: 220603_slice02_rec01_5TTAP2_300isra_results.csv\n",
      "Processing recording 16/21: 220607_slice01_rec01_5TTAP2_300isra_results.csv\n",
      "Processing recording 17/21: 220610_slice01_rec01_5TTAP2_300isra_results.csv\n",
      "Processing recording 18/21: 220610_slice02_rec01_5TTAP2_300isra_results.csv\n",
      "Processing recording 19/21: 230227_slice02_500pM_AngII_ttap2_isra_results.csv\n",
      "Processing recording 20/21: 230227_slice05_500pM_AngII_ttap2_isra_results.csv\n",
      "Processing recording 21/21: 230228_slice02_500pM_AngII_ttap2_isra_results.csv\n",
      "Done.\n"
     ]
    }
   ],
   "source": [
    "max_length = 16200 # maximum number of frames to consider\n",
    "\n",
    "data_right = pd.DataFrame()\n",
    "\n",
    "bin_size = 60 # Bin size in seconds\n",
    "\n",
    "n_rec = len(data_hdf.recordings)\n",
    "print(f\"Processing {n_rec} recordings:\")\n",
    "\n",
    "for i, recording in enumerate(data_hdf.recordings):\n",
    "    print(f\"Processing recording {(i+1)}/{n_rec}: {recording}\")\n",
    "\n",
    "    r = data_hdf.recordings[recording]\n",
    "\n",
    "    info = {desc: r.information[desc] for desc in r.information}\n",
    "\n",
    "    for cell in r.cells:\n",
    "        c = r.cells[cell]\n",
    "\n",
    "        if c.use:\n",
    "            for con in r.conditions:\n",
    "                info[\"recording\"] = recording\n",
    "                info[\"start\"] = int(con.start)\n",
    "                info[\"end\"] = int(con.end)\n",
    "                info[\"cell\"] = cell\n",
    "                info[\"dt\"] = r.dt # Add \"dt\" aka seconds/frame\n",
    "                info.update({desc: con.information[desc] for desc in con.information}) # Add all further condition variables\n",
    "                \n",
    "                if info[\"start\"] < max_length:  # only process conditions with a start < max_length\n",
    "                    if info[\"end\"] > max_length:  # if the end is longer than max_length\n",
    "                        info[\"end\"] = max_length  # set end to max_length\n",
    "\n",
    "                    #calculate actvity in last 2 min of each condition in  events/s\n",
    "                    frames_120s = int(120/r.dt)\n",
    "                    info[\"num_events_last120s\"]  = len(list(c.get_event(range(info[\"end\"]-frames_120s, info[\"end\"])))) # Number of events\n",
    "\n",
    "                    if info[\"num_events_last120s\"] == 0:\n",
    "                        info[\"num_events_last120s\"] = 0\n",
    "                        info[\"activity_last120s\"] = 0\n",
    "                    else:\n",
    "                        info[\"activity_last120s\"] =  info[\"num_events_last120s\"]/frames_120s/r.dt \n",
    "\n",
    "                    #calculate bins\n",
    "\n",
    "                    bin_count, bins = get_binned_events(c, info[\"start\"], info[\"end\"], int(bin_size/r.dt), align=\"right\")\n",
    "\n",
    "                    for i, bc in enumerate(bin_count):\n",
    "                        info[\"freq_right\"] = bc/(np.diff(bins)[i]*r.dt)\n",
    "                        info[\"bins_right\"] = bins[i]\n",
    "                        data_right = pd.concat((data_right, pd.DataFrame.from_dict(info, orient=\"index\").T), ignore_index=True)\n",
    "\n",
    "data_right['date'] = data_right['recording'].str[0:6]\n",
    "data_right['bins_right'] = data_right['bins_right'].astype(int)\n",
    "data_right['start'] = data_right['start'].astype(int)\n",
    "data_right['end'] = data_right['end'].astype(int)\n",
    "\n",
    "data_right = data_right.round({'bins_right': -1})\n",
    "data_right = data_right.round({'start': -1})\n",
    "data_right = data_right.round({'end': -1})\n",
    "\n",
    "data_right[\"bins_right_v2\"]=data_right[\"bins_right\"]-data_right[\"end\"]\n",
    "\n",
    "print(\"Done.\")"
   ]
  },
  {
   "cell_type": "code",
   "execution_count": 6,
   "id": "b8ed1b5a",
   "metadata": {},
   "outputs": [],
   "source": [
    "data_left.to_csv(\"data_left_cal_isra_ttap2_overtime.csv\")\n",
    "data_right.to_csv(\"data_right_cal_isra_ttap2_overtime.csv\")"
   ]
  },
  {
   "cell_type": "markdown",
   "id": "c8250255",
   "metadata": {},
   "source": [
    "# Load Data\n"
   ]
  },
  {
   "cell_type": "code",
   "execution_count": 7,
   "id": "47e8604f",
   "metadata": {},
   "outputs": [
    {
     "name": "stdout",
     "output_type": "stream",
     "text": [
      "Load data\n",
      "###### date and time ######\n",
      "05-May-2023 15:17\n"
     ]
    }
   ],
   "source": [
    "data_right = pd.read_csv(\"data_right_cal_isra_ttap2_overtime.csv\", index_col=\"Unnamed: 0\")  \n",
    "data_left = pd.read_csv(\"data_left_cal_isra_ttap2_overtime.csv\", index_col=\"Unnamed: 0\") \n",
    "\n",
    "print(\"Load data\")\n",
    "now = datetime.now().strftime(\"%d-%b-%Y %H:%M\")\n",
    "print(\"###### date and time ######\")\n",
    "print(now)"
   ]
  },
  {
   "cell_type": "code",
   "execution_count": 8,
   "id": "5a2d8122",
   "metadata": {},
   "outputs": [
    {
     "name": "stderr",
     "output_type": "stream",
     "text": [
      "C:\\Users\\dinhha\\AppData\\Local\\Temp\\ipykernel_7980\\163261502.py:25: FutureWarning: The default value of numeric_only in DataFrameGroupBy.mean is deprecated. In a future version, numeric_only will default to False. Either specify numeric_only or select only columns which should be valid for the function.\n",
      "  \"genotype\", \"bins_left_v2\", \"ctrl\"]).mean().reset_index()\n",
      "C:\\Users\\dinhha\\AppData\\Local\\Temp\\ipykernel_7980\\163261502.py:29: FutureWarning: The default value of numeric_only in DataFrameGroupBy.mean is deprecated. In a future version, numeric_only will default to False. Either specify numeric_only or select only columns which should be valid for the function.\n",
      "  \"genotype\", \"bins_right_v2\", \"ctrl\"]).mean().reset_index()\n"
     ]
    }
   ],
   "source": [
    "# only analyze WT data\n",
    "data_right = data_right[data_right[\"genotype\"] == \"wt\"]\n",
    "data_left = data_left[data_left[\"genotype\"] == \"wt\"]\n",
    "\n",
    "# only analyze data that have activity >=0.17 in the 2 minutes before adding blockers\n",
    "data_r_minus = data_right[(data_right[\"pos\"]==1) & (data_right[\"activity_last120s\"]<0.17)][[\"recording\", \"cell\"]]\\\n",
    "                    .drop_duplicates()\n",
    "data_l_minus = data_left[(data_left[\"pos\"]==1) & (data_left[\"activity_last120s\"]<0.17)][[\"recording\", \"cell\"]]\\\n",
    "                    .drop_duplicates()\n",
    "data_filtered_r = pd.merge(data_right, data_r_minus, \n",
    "                           how='outer', on=[\"recording\", \"cell\"], indicator=True).query(\"_merge == 'left_only'\")\n",
    "data_filtered_l = pd.merge(data_left, data_l_minus, \n",
    "                           how='outer', on=[\"recording\", \"cell\"], indicator=True).query(\"_merge == 'left_only'\")\n",
    "\n",
    "# keep recording with at least 6 cells \n",
    "drop_rec = data_filtered_l[(data_filtered_l[\"pos\"]==1) & (data_filtered_l[\"bins_left\"]==0)]\\\n",
    "            .groupby([\"ctrl\", \"recording\"])\\\n",
    "            .count().reset_index().query(\"cell<6\").recording.unique()\n",
    "data_filtered_l = data_filtered_l[~data_filtered_l.recording.isin(drop_rec)]\n",
    "data_filtered_r = data_filtered_r[~data_filtered_r.recording.isin(drop_rec)]\n",
    "\n",
    "\n",
    "data_filtered_l_per_slice = data_filtered_l.groupby([\"recording\",\n",
    "                                                     \"pos\",\n",
    "                                                     \"genotype\", \"bins_left_v2\", \"ctrl\"]).mean().reset_index()\n",
    "\n",
    "data_filtered_r_per_slice = data_filtered_r.groupby([\"recording\",\n",
    "                                                     \"pos\",\n",
    "                                                     \"genotype\", \"bins_right_v2\", \"ctrl\"]).mean().reset_index()"
   ]
  },
  {
   "cell_type": "code",
   "execution_count": 14,
   "id": "c1732ad1",
   "metadata": {},
   "outputs": [
    {
     "name": "stderr",
     "output_type": "stream",
     "text": [
      "C:\\Users\\dinhha\\AppData\\Local\\Temp\\ipykernel_8652\\1228256029.py:1: FutureWarning: Indexing with multiple keys (implicitly converted to a tuple of keys) will be deprecated, use a list instead.\n",
      "  data_filtered_r.groupby([\"ctrl\"])[\"animal\", \"recording\"].nunique()\n"
     ]
    },
    {
     "data": {
      "text/html": [
       "<div>\n",
       "<style scoped>\n",
       "    .dataframe tbody tr th:only-of-type {\n",
       "        vertical-align: middle;\n",
       "    }\n",
       "\n",
       "    .dataframe tbody tr th {\n",
       "        vertical-align: top;\n",
       "    }\n",
       "\n",
       "    .dataframe thead th {\n",
       "        text-align: right;\n",
       "    }\n",
       "</style>\n",
       "<table border=\"1\" class=\"dataframe\">\n",
       "  <thead>\n",
       "    <tr style=\"text-align: right;\">\n",
       "      <th></th>\n",
       "      <th>animal</th>\n",
       "      <th>recording</th>\n",
       "    </tr>\n",
       "    <tr>\n",
       "      <th>ctrl</th>\n",
       "      <th></th>\n",
       "      <th></th>\n",
       "    </tr>\n",
       "  </thead>\n",
       "  <tbody>\n",
       "    <tr>\n",
       "      <th>n</th>\n",
       "      <td>6</td>\n",
       "      <td>10</td>\n",
       "    </tr>\n",
       "    <tr>\n",
       "      <th>y</th>\n",
       "      <td>9</td>\n",
       "      <td>10</td>\n",
       "    </tr>\n",
       "  </tbody>\n",
       "</table>\n",
       "</div>"
      ],
      "text/plain": [
       "      animal  recording\n",
       "ctrl                   \n",
       "n          6         10\n",
       "y          9         10"
      ]
     },
     "execution_count": 14,
     "metadata": {},
     "output_type": "execute_result"
    }
   ],
   "source": [
    "data_filtered_r.groupby([\"ctrl\"])[\"animal\", \"recording\"].nunique()"
   ]
  },
  {
   "cell_type": "code",
   "execution_count": 11,
   "id": "d92abd7d",
   "metadata": {},
   "outputs": [
    {
     "data": {
      "text/plain": [
       "ctrl\n",
       "n    246\n",
       "y    213\n",
       "Name: cell, dtype: int64"
      ]
     },
     "execution_count": 11,
     "metadata": {},
     "output_type": "execute_result"
    }
   ],
   "source": [
    "data_filtered_l[(data_filtered_l[\"pos\"]==2)&\n",
    "                (data_filtered_l[\"bins_left_v2\"]==0)].groupby([\"ctrl\"])[\"cell\"].count()"
   ]
  },
  {
   "cell_type": "code",
   "execution_count": 12,
   "id": "8861fcbc",
   "metadata": {},
   "outputs": [],
   "source": [
    "data_pos1 = data_filtered_r.query('pos == 1').query('bins_right_v2 > -3001')\n",
    "data_pos2 = data_filtered_l.query('pos == 2').query('bins_left_v2 < 6000')\n",
    "data_pos3 = data_filtered_l.query('pos == 3').query('bins_left_v2 < 6000')\n",
    "\n",
    "\n",
    "data_pos1[\"bins_right_v3\"] = data_pos1[\"bins_right_v2\"]/60*data_pos1.dt+1\n",
    "data_pos2[\"bins_left_v3\"] = data_pos2[\"bins_left_v2\"]/60*data_pos2.dt+1\n",
    "data_pos3[\"bins_left_v3\"] = (data_pos3[\"bins_left_v2\"] + 6000)/60*data_pos3.dt+1"
   ]
  },
  {
   "cell_type": "code",
   "execution_count": 13,
   "id": "7d971d1c",
   "metadata": {},
   "outputs": [
    {
     "data": {
      "image/png": "[encoded data removed]",
      "text/plain": [
       "<Figure size 660x200 with 1 Axes>"
      ]
     },
     "metadata": {},
     "output_type": "display_data"
    }
   ],
   "source": [
    "order = [\"y\", \"n\"]\n",
    "m = [\"^\", \"o\"]\n",
    "ms = 5\n",
    "p = [\"grey\", color_palette[0]]\n",
    "lw = 0\n",
    "\n",
    "fig1, ax1 = plt.subplots(figsize=(6.6,2))\n",
    "sns.lineplot(data=data_pos1, x=\"bins_right_v3\", y=\"freq_right\", hue = \"ctrl\", hue_order=order,\n",
    "               errorbar=(\"ci\",95),n_boot=n_boot, seed=seed,\n",
    "              style=\"ctrl\", style_order=order, markers=m, \n",
    "             palette=p, ms = ms, ax=ax1, zorder=1, linewidth=lw)\n",
    "            \n",
    "\n",
    "sns.lineplot(data=data_pos2, x=\"bins_left_v3\", y=\"freq_left\", hue = \"ctrl\", hue_order=order,\n",
    "               errorbar=(\"ci\",95),n_boot=n_boot, seed=seed,\n",
    "              style=\"ctrl\", style_order=order, markers=m, \n",
    "             palette=p, ms = ms, ax=ax1, zorder=1, linewidth=lw)\n",
    "            \n",
    "\n",
    "sns.lineplot(data=data_pos3, x=\"bins_left_v3\", y=\"freq_left\", hue = \"ctrl\", hue_order=order,\n",
    "               errorbar=(\"ci\",95),n_boot=n_boot, seed=seed,\n",
    "              style=\"ctrl\", style_order=order, markers=m, \n",
    "             palette=p, ms = ms, ax=ax1, zorder=1, linewidth=lw)\n",
    "            \n",
    "\n",
    "ax1.set_xlim(-4.5,20.5)\n",
    "ax1.set_ylim(-0.1,0.92)\n",
    "ax1.set_xlabel(\"bins (min)\")\n",
    "   \n",
    "    \n",
    "# Create a Rectangle patch isra/ttap2\n",
    "\n",
    "ax1.add_patch(plt.Rectangle((0.1,0.8), 20, 0.105, facecolor='lightgrey', linewidth=1, edgecolor = \"black\", \n",
    "                              clip_on=False, zorder=10))\n",
    "plt.text(0.2, 0.835, \"5 µmol/l TTA-P2\", ha=\"left\", color=\"black\", zorder=12)    \n",
    "    \n",
    "ax1.add_patch(plt.Rectangle((10.1,0.67), 10, 0.105, facecolor='lightgrey', linewidth=1, edgecolor = \"black\", \n",
    "                              clip_on=False, zorder=10))\n",
    "plt.text(10.2, 0.7, \"300 nmol/l Isradipine\", ha=\"left\", color=\"black\", zorder=12)        \n",
    "\n",
    "# Create a Rectangle patch selection\n",
    "\n",
    "ax1.add_patch(plt.Rectangle((-2,-0.065), 2, 0.015, facecolor=color_palette[0], linewidth=1, edgecolor = color_palette[0], \n",
    "                              clip_on=False, zorder=10))\n",
    "\n",
    "ax1.add_patch(plt.Rectangle((8,-0.065), 2, 0.015, facecolor=color_palette[2], linewidth=1, edgecolor = color_palette[2], \n",
    "                              clip_on=False, zorder=10))\n",
    "\n",
    "ax1.add_patch(plt.Rectangle((18,-0.065), 2, 0.015, facecolor=color_palette[4], linewidth=1, edgecolor = color_palette[4], \n",
    "                              clip_on=False, zorder=10))\n",
    "\n",
    "ax1.legend(loc='center left', bbox_to_anchor=(1, 0.5))\n",
    "sns.despine(top=True, right=True)\n",
    "ax1.set_ylabel(\"Activity (1/s)\")       \n",
    "\n",
    "\n"
   ]
  },
  {
   "cell_type": "code",
   "execution_count": null,
   "id": "5557718b",
   "metadata": {},
   "outputs": [],
   "source": []
  }
 ],
 "metadata": {
  "kernelspec": {
   "display_name": "Python 3 (ipykernel)",
   "language": "python",
   "name": "python3"
  },
  "language_info": {
   "codemirror_mode": {
    "name": "ipython",
    "version": 3
   },
   "file_extension": ".py",
   "mimetype": "text/x-python",
   "name": "python",
   "nbconvert_exporter": "python",
   "pygments_lexer": "ipython3",
   "version": "3.10.9"
  }
 },
 "nbformat": 4,
 "nbformat_minor": 5
}
