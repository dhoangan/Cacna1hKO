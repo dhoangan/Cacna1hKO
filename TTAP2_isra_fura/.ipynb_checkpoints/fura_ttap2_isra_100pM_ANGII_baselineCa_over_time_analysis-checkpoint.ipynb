{
 "cells": [
  {
   "cell_type": "code",
   "execution_count": 4,
   "id": "23ed471b",
   "metadata": {},
   "outputs": [],
   "source": [
    "import calim\n",
    "import matplotlib.pyplot as plt\n",
    "import matplotlib\n",
    "import seaborn as sns\n",
    "import pickle\n",
    "import pandas as pd\n",
    "import numpy as np\n",
    "from scipy.stats import mannwhitneyu\n",
    "\n",
    "color_palette = sns.color_palette(\"colorblind\")\n",
    "sns.set_theme(palette=color_palette, font=\"Arial\", font_scale=1.0, style=\"white\")\n",
    "\n",
    "# number of iterations and seed for bootstrapping during calculation of confidence intervals\n",
    "n_boot = 10000\n",
    "seed = 10"
   ]
  },
  {
   "cell_type": "code",
   "execution_count": 5,
   "id": "9061ba44",
   "metadata": {},
   "outputs": [],
   "source": [
    "#Stand Kalibration 10.03.2020 für das Scientifica-Setup\n",
    "# mit Korrektur vom 19.05.2021 (ab hier zu verwenden)\n",
    "kd = 417.1324107961717\n",
    "R_max = 1.9267297757725788*1.305670312829699\n",
    "R_min = 0.27585714285714286*0.8222568831620652\n",
    "sf2_by_sb2 = 2273/413\n",
    "\n",
    "\n",
    "\n",
    "def calcium(data, kd, R_max, R_min, sf2_by_sb2):\n",
    "    return kd*((data-R_min)/(R_max-data))*sf2_by_sb2"
   ]
  },
  {
   "cell_type": "code",
   "execution_count": 6,
   "id": "94857561",
   "metadata": {},
   "outputs": [],
   "source": [
    "# Names of used data files\n",
    "\n",
    "filename_1 = \"doppel_perf_fura_data+ctrl_burst_selection_230601.hdf\""
   ]
  },
  {
   "cell_type": "code",
   "execution_count": 7,
   "id": "54a03edb",
   "metadata": {},
   "outputs": [],
   "source": [
    "# import data\n",
    "\n",
    "data_pkl_1 = calim.Project()\n",
    "data_pkl_1.from_hdf(filename_1)"
   ]
  },
  {
   "cell_type": "code",
   "execution_count": 8,
   "id": "c5bcc039",
   "metadata": {},
   "outputs": [
    {
     "name": "stdout",
     "output_type": "stream",
     "text": [
      "Processing recordings contained in doppel_perf_fura_data+ctrl_burst_selection_230601.hdf:\n",
      "230223_slice03_ttap2_isra_ctrl_results.csv\n",
      "Mean1\n",
      "0.8327429979253113\n"
     ]
    },
    {
     "name": "stderr",
     "output_type": "stream",
     "text": [
      "C:\\Users\\dinhha\\AppData\\Local\\Temp\\ipykernel_14704\\2725347921.py:77: RuntimeWarning: Mean of empty slice\n",
      "  binned_Ca_baseline = np.nanmean(binned_Ca_baseline, axis=1)\n",
      "C:\\Users\\dinhha\\AppData\\Local\\Temp\\ipykernel_14704\\2725347921.py:77: RuntimeWarning: Mean of empty slice\n",
      "  binned_Ca_baseline = np.nanmean(binned_Ca_baseline, axis=1)\n"
     ]
    },
    {
     "name": "stdout",
     "output_type": "stream",
     "text": [
      "Mean11\n",
      "0.9033752593360995\n"
     ]
    },
    {
     "name": "stderr",
     "output_type": "stream",
     "text": [
      "C:\\Users\\dinhha\\AppData\\Local\\Temp\\ipykernel_14704\\2725347921.py:77: RuntimeWarning: Mean of empty slice\n",
      "  binned_Ca_baseline = np.nanmean(binned_Ca_baseline, axis=1)\n",
      "C:\\Users\\dinhha\\AppData\\Local\\Temp\\ipykernel_14704\\2725347921.py:77: RuntimeWarning: Mean of empty slice\n",
      "  binned_Ca_baseline = np.nanmean(binned_Ca_baseline, axis=1)\n"
     ]
    },
    {
     "name": "stdout",
     "output_type": "stream",
     "text": [
      "Mean12\n",
      "0.9056890127939142\n"
     ]
    },
    {
     "name": "stderr",
     "output_type": "stream",
     "text": [
      "C:\\Users\\dinhha\\AppData\\Local\\Temp\\ipykernel_14704\\2725347921.py:77: RuntimeWarning: Mean of empty slice\n",
      "  binned_Ca_baseline = np.nanmean(binned_Ca_baseline, axis=1)\n",
      "C:\\Users\\dinhha\\AppData\\Local\\Temp\\ipykernel_14704\\2725347921.py:77: RuntimeWarning: Mean of empty slice\n",
      "  binned_Ca_baseline = np.nanmean(binned_Ca_baseline, axis=1)\n"
     ]
    },
    {
     "name": "stdout",
     "output_type": "stream",
     "text": [
      "Mean13\n",
      "0.8709125172890734\n"
     ]
    },
    {
     "name": "stderr",
     "output_type": "stream",
     "text": [
      "C:\\Users\\dinhha\\AppData\\Local\\Temp\\ipykernel_14704\\2725347921.py:77: RuntimeWarning: Mean of empty slice\n",
      "  binned_Ca_baseline = np.nanmean(binned_Ca_baseline, axis=1)\n",
      "C:\\Users\\dinhha\\AppData\\Local\\Temp\\ipykernel_14704\\2725347921.py:77: RuntimeWarning: Mean of empty slice\n",
      "  binned_Ca_baseline = np.nanmean(binned_Ca_baseline, axis=1)\n",
      "C:\\Users\\dinhha\\AppData\\Local\\Temp\\ipykernel_14704\\2725347921.py:77: RuntimeWarning: Mean of empty slice\n",
      "  binned_Ca_baseline = np.nanmean(binned_Ca_baseline, axis=1)\n",
      "C:\\Users\\dinhha\\AppData\\Local\\Temp\\ipykernel_14704\\2725347921.py:77: RuntimeWarning: Mean of empty slice\n",
      "  binned_Ca_baseline = np.nanmean(binned_Ca_baseline, axis=1)\n"
     ]
    },
    {
     "name": "stdout",
     "output_type": "stream",
     "text": [
      "Mean16\n",
      "0.8885429201244812\n"
     ]
    },
    {
     "name": "stderr",
     "output_type": "stream",
     "text": [
      "C:\\Users\\dinhha\\AppData\\Local\\Temp\\ipykernel_14704\\2725347921.py:77: RuntimeWarning: Mean of empty slice\n",
      "  binned_Ca_baseline = np.nanmean(binned_Ca_baseline, axis=1)\n"
     ]
    },
    {
     "name": "stdout",
     "output_type": "stream",
     "text": [
      "Mean18\n",
      "0.889659362033195\n"
     ]
    },
    {
     "name": "stderr",
     "output_type": "stream",
     "text": [
      "C:\\Users\\dinhha\\AppData\\Local\\Temp\\ipykernel_14704\\2725347921.py:77: RuntimeWarning: Mean of empty slice\n",
      "  binned_Ca_baseline = np.nanmean(binned_Ca_baseline, axis=1)\n",
      "C:\\Users\\dinhha\\AppData\\Local\\Temp\\ipykernel_14704\\2725347921.py:77: RuntimeWarning: Mean of empty slice\n",
      "  binned_Ca_baseline = np.nanmean(binned_Ca_baseline, axis=1)\n"
     ]
    },
    {
     "name": "stdout",
     "output_type": "stream",
     "text": [
      "Mean2\n",
      "0.814349152835408\n"
     ]
    },
    {
     "name": "stderr",
     "output_type": "stream",
     "text": [
      "C:\\Users\\dinhha\\AppData\\Local\\Temp\\ipykernel_14704\\2725347921.py:77: RuntimeWarning: Mean of empty slice\n",
      "  binned_Ca_baseline = np.nanmean(binned_Ca_baseline, axis=1)\n"
     ]
    },
    {
     "name": "stdout",
     "output_type": "stream",
     "text": [
      "Mean20\n",
      "0.8869330048409405\n"
     ]
    },
    {
     "name": "stderr",
     "output_type": "stream",
     "text": [
      "C:\\Users\\dinhha\\AppData\\Local\\Temp\\ipykernel_14704\\2725347921.py:77: RuntimeWarning: Mean of empty slice\n",
      "  binned_Ca_baseline = np.nanmean(binned_Ca_baseline, axis=1)\n"
     ]
    },
    {
     "name": "stdout",
     "output_type": "stream",
     "text": [
      "Mean21\n",
      "0.9982503025587829\n"
     ]
    },
    {
     "name": "stderr",
     "output_type": "stream",
     "text": [
      "C:\\Users\\dinhha\\AppData\\Local\\Temp\\ipykernel_14704\\2725347921.py:77: RuntimeWarning: Mean of empty slice\n",
      "  binned_Ca_baseline = np.nanmean(binned_Ca_baseline, axis=1)\n",
      "C:\\Users\\dinhha\\AppData\\Local\\Temp\\ipykernel_14704\\2725347921.py:77: RuntimeWarning: Mean of empty slice\n",
      "  binned_Ca_baseline = np.nanmean(binned_Ca_baseline, axis=1)\n",
      "C:\\Users\\dinhha\\AppData\\Local\\Temp\\ipykernel_14704\\2725347921.py:77: RuntimeWarning: Mean of empty slice\n",
      "  binned_Ca_baseline = np.nanmean(binned_Ca_baseline, axis=1)\n"
     ]
    },
    {
     "name": "stdout",
     "output_type": "stream",
     "text": [
      "Mean22\n",
      "0.9896615231673582\n"
     ]
    },
    {
     "name": "stderr",
     "output_type": "stream",
     "text": [
      "C:\\Users\\dinhha\\AppData\\Local\\Temp\\ipykernel_14704\\2725347921.py:77: RuntimeWarning: Mean of empty slice\n",
      "  binned_Ca_baseline = np.nanmean(binned_Ca_baseline, axis=1)\n",
      "C:\\Users\\dinhha\\AppData\\Local\\Temp\\ipykernel_14704\\2725347921.py:77: RuntimeWarning: Mean of empty slice\n",
      "  binned_Ca_baseline = np.nanmean(binned_Ca_baseline, axis=1)\n",
      "C:\\Users\\dinhha\\AppData\\Local\\Temp\\ipykernel_14704\\2725347921.py:77: RuntimeWarning: Mean of empty slice\n",
      "  binned_Ca_baseline = np.nanmean(binned_Ca_baseline, axis=1)\n"
     ]
    },
    {
     "name": "stdout",
     "output_type": "stream",
     "text": [
      "Mean23\n",
      "0.9508517894190871\n"
     ]
    },
    {
     "name": "stderr",
     "output_type": "stream",
     "text": [
      "C:\\Users\\dinhha\\AppData\\Local\\Temp\\ipykernel_14704\\2725347921.py:77: RuntimeWarning: Mean of empty slice\n",
      "  binned_Ca_baseline = np.nanmean(binned_Ca_baseline, axis=1)\n",
      "C:\\Users\\dinhha\\AppData\\Local\\Temp\\ipykernel_14704\\2725347921.py:77: RuntimeWarning: Mean of empty slice\n",
      "  binned_Ca_baseline = np.nanmean(binned_Ca_baseline, axis=1)\n",
      "C:\\Users\\dinhha\\AppData\\Local\\Temp\\ipykernel_14704\\2725347921.py:77: RuntimeWarning: Mean of empty slice\n",
      "  binned_Ca_baseline = np.nanmean(binned_Ca_baseline, axis=1)\n"
     ]
    },
    {
     "name": "stdout",
     "output_type": "stream",
     "text": [
      "Mean24\n",
      "0.8440869640387276\n"
     ]
    },
    {
     "name": "stderr",
     "output_type": "stream",
     "text": [
      "C:\\Users\\dinhha\\AppData\\Local\\Temp\\ipykernel_14704\\2725347921.py:77: RuntimeWarning: Mean of empty slice\n",
      "  binned_Ca_baseline = np.nanmean(binned_Ca_baseline, axis=1)\n",
      "C:\\Users\\dinhha\\AppData\\Local\\Temp\\ipykernel_14704\\2725347921.py:77: RuntimeWarning: Mean of empty slice\n",
      "  binned_Ca_baseline = np.nanmean(binned_Ca_baseline, axis=1)\n",
      "C:\\Users\\dinhha\\AppData\\Local\\Temp\\ipykernel_14704\\2725347921.py:77: RuntimeWarning: Mean of empty slice\n",
      "  binned_Ca_baseline = np.nanmean(binned_Ca_baseline, axis=1)\n"
     ]
    },
    {
     "name": "stdout",
     "output_type": "stream",
     "text": [
      "Mean25\n",
      "0.9585111946749654\n"
     ]
    },
    {
     "name": "stderr",
     "output_type": "stream",
     "text": [
      "C:\\Users\\dinhha\\AppData\\Local\\Temp\\ipykernel_14704\\2725347921.py:77: RuntimeWarning: Mean of empty slice\n",
      "  binned_Ca_baseline = np.nanmean(binned_Ca_baseline, axis=1)\n",
      "C:\\Users\\dinhha\\AppData\\Local\\Temp\\ipykernel_14704\\2725347921.py:77: RuntimeWarning: Mean of empty slice\n",
      "  binned_Ca_baseline = np.nanmean(binned_Ca_baseline, axis=1)\n"
     ]
    },
    {
     "name": "stdout",
     "output_type": "stream",
     "text": [
      "Mean3\n",
      "0.9760424878976489\n"
     ]
    },
    {
     "name": "stderr",
     "output_type": "stream",
     "text": [
      "C:\\Users\\dinhha\\AppData\\Local\\Temp\\ipykernel_14704\\2725347921.py:77: RuntimeWarning: Mean of empty slice\n",
      "  binned_Ca_baseline = np.nanmean(binned_Ca_baseline, axis=1)\n",
      "C:\\Users\\dinhha\\AppData\\Local\\Temp\\ipykernel_14704\\2725347921.py:77: RuntimeWarning: Mean of empty slice\n",
      "  binned_Ca_baseline = np.nanmean(binned_Ca_baseline, axis=1)\n"
     ]
    },
    {
     "name": "stdout",
     "output_type": "stream",
     "text": [
      "Mean4\n",
      "0.7892149896265559\n"
     ]
    },
    {
     "name": "stderr",
     "output_type": "stream",
     "text": [
      "C:\\Users\\dinhha\\AppData\\Local\\Temp\\ipykernel_14704\\2725347921.py:77: RuntimeWarning: Mean of empty slice\n",
      "  binned_Ca_baseline = np.nanmean(binned_Ca_baseline, axis=1)\n"
     ]
    },
    {
     "name": "stdout",
     "output_type": "stream",
     "text": [
      "Mean5\n",
      "0.8640294346473028\n"
     ]
    },
    {
     "name": "stderr",
     "output_type": "stream",
     "text": [
      "C:\\Users\\dinhha\\AppData\\Local\\Temp\\ipykernel_14704\\2725347921.py:77: RuntimeWarning: Mean of empty slice\n",
      "  binned_Ca_baseline = np.nanmean(binned_Ca_baseline, axis=1)\n",
      "C:\\Users\\dinhha\\AppData\\Local\\Temp\\ipykernel_14704\\2725347921.py:77: RuntimeWarning: Mean of empty slice\n",
      "  binned_Ca_baseline = np.nanmean(binned_Ca_baseline, axis=1)\n",
      "C:\\Users\\dinhha\\AppData\\Local\\Temp\\ipykernel_14704\\2725347921.py:77: RuntimeWarning: Mean of empty slice\n",
      "  binned_Ca_baseline = np.nanmean(binned_Ca_baseline, axis=1)\n"
     ]
    },
    {
     "name": "stdout",
     "output_type": "stream",
     "text": [
      "Mean6\n",
      "0.81341869813278\n"
     ]
    },
    {
     "name": "stderr",
     "output_type": "stream",
     "text": [
      "C:\\Users\\dinhha\\AppData\\Local\\Temp\\ipykernel_14704\\2725347921.py:77: RuntimeWarning: Mean of empty slice\n",
      "  binned_Ca_baseline = np.nanmean(binned_Ca_baseline, axis=1)\n"
     ]
    },
    {
     "name": "stdout",
     "output_type": "stream",
     "text": [
      "Mean7\n",
      "1.0131869813278007\n"
     ]
    },
    {
     "name": "stderr",
     "output_type": "stream",
     "text": [
      "C:\\Users\\dinhha\\AppData\\Local\\Temp\\ipykernel_14704\\2725347921.py:77: RuntimeWarning: Mean of empty slice\n",
      "  binned_Ca_baseline = np.nanmean(binned_Ca_baseline, axis=1)\n"
     ]
    },
    {
     "name": "stdout",
     "output_type": "stream",
     "text": [
      "Mean9\n",
      "1.0220660442600278\n"
     ]
    },
    {
     "name": "stderr",
     "output_type": "stream",
     "text": [
      "C:\\Users\\dinhha\\AppData\\Local\\Temp\\ipykernel_14704\\2725347921.py:77: RuntimeWarning: Mean of empty slice\n",
      "  binned_Ca_baseline = np.nanmean(binned_Ca_baseline, axis=1)\n"
     ]
    },
    {
     "name": "stdout",
     "output_type": "stream",
     "text": [
      "230223_slice04_ttap2_isra_results.csv\n",
      "Mean1\n",
      "0.8326065788916642\n"
     ]
    },
    {
     "name": "stderr",
     "output_type": "stream",
     "text": [
      "C:\\Users\\dinhha\\AppData\\Local\\Temp\\ipykernel_14704\\2725347921.py:77: RuntimeWarning: Mean of empty slice\n",
      "  binned_Ca_baseline = np.nanmean(binned_Ca_baseline, axis=1)\n",
      "C:\\Users\\dinhha\\AppData\\Local\\Temp\\ipykernel_14704\\2725347921.py:77: RuntimeWarning: Mean of empty slice\n",
      "  binned_Ca_baseline = np.nanmean(binned_Ca_baseline, axis=1)\n",
      "C:\\Users\\dinhha\\AppData\\Local\\Temp\\ipykernel_14704\\2725347921.py:77: RuntimeWarning: Mean of empty slice\n",
      "  binned_Ca_baseline = np.nanmean(binned_Ca_baseline, axis=1)\n"
     ]
    },
    {
     "name": "stdout",
     "output_type": "stream",
     "text": [
      "Mean10\n",
      "0.8340117691884341\n",
      "Mean11\n",
      "0.9521753101054147\n",
      "Mean12\n",
      "0.9008305321535921\n"
     ]
    },
    {
     "name": "stderr",
     "output_type": "stream",
     "text": [
      "C:\\Users\\dinhha\\AppData\\Local\\Temp\\ipykernel_14704\\2725347921.py:77: RuntimeWarning: Mean of empty slice\n",
      "  binned_Ca_baseline = np.nanmean(binned_Ca_baseline, axis=1)\n",
      "C:\\Users\\dinhha\\AppData\\Local\\Temp\\ipykernel_14704\\2725347921.py:77: RuntimeWarning: Mean of empty slice\n",
      "  binned_Ca_baseline = np.nanmean(binned_Ca_baseline, axis=1)\n"
     ]
    },
    {
     "name": "stdout",
     "output_type": "stream",
     "text": [
      "Mean13\n",
      "0.9693432538842557\n",
      "Mean14\n",
      "0.9346186020913593\n",
      "Mean15\n",
      "0.9405767749036874\n"
     ]
    },
    {
     "name": "stderr",
     "output_type": "stream",
     "text": [
      "C:\\Users\\dinhha\\AppData\\Local\\Temp\\ipykernel_14704\\2725347921.py:77: RuntimeWarning: Mean of empty slice\n",
      "  binned_Ca_baseline = np.nanmean(binned_Ca_baseline, axis=1)\n"
     ]
    },
    {
     "name": "stdout",
     "output_type": "stream",
     "text": [
      "Mean16\n",
      "0.9170526226662715\n"
     ]
    },
    {
     "name": "stderr",
     "output_type": "stream",
     "text": [
      "C:\\Users\\dinhha\\AppData\\Local\\Temp\\ipykernel_14704\\2725347921.py:77: RuntimeWarning: Mean of empty slice\n",
      "  binned_Ca_baseline = np.nanmean(binned_Ca_baseline, axis=1)\n"
     ]
    },
    {
     "name": "stdout",
     "output_type": "stream",
     "text": [
      "Mean17\n",
      "0.8936519199017822\n"
     ]
    },
    {
     "name": "stderr",
     "output_type": "stream",
     "text": [
      "C:\\Users\\dinhha\\AppData\\Local\\Temp\\ipykernel_14704\\2725347921.py:77: RuntimeWarning: Mean of empty slice\n",
      "  binned_Ca_baseline = np.nanmean(binned_Ca_baseline, axis=1)\n",
      "C:\\Users\\dinhha\\AppData\\Local\\Temp\\ipykernel_14704\\2725347921.py:77: RuntimeWarning: Mean of empty slice\n",
      "  binned_Ca_baseline = np.nanmean(binned_Ca_baseline, axis=1)\n"
     ]
    },
    {
     "name": "stdout",
     "output_type": "stream",
     "text": [
      "Mean18\n",
      "0.8946158079674866\n"
     ]
    },
    {
     "name": "stderr",
     "output_type": "stream",
     "text": [
      "C:\\Users\\dinhha\\AppData\\Local\\Temp\\ipykernel_14704\\2725347921.py:77: RuntimeWarning: Mean of empty slice\n",
      "  binned_Ca_baseline = np.nanmean(binned_Ca_baseline, axis=1)\n"
     ]
    },
    {
     "name": "stdout",
     "output_type": "stream",
     "text": [
      "Mean19\n",
      "0.8879289191820837\n"
     ]
    },
    {
     "name": "stderr",
     "output_type": "stream",
     "text": [
      "C:\\Users\\dinhha\\AppData\\Local\\Temp\\ipykernel_14704\\2725347921.py:77: RuntimeWarning: Mean of empty slice\n",
      "  binned_Ca_baseline = np.nanmean(binned_Ca_baseline, axis=1)\n"
     ]
    },
    {
     "name": "stdout",
     "output_type": "stream",
     "text": [
      "Mean2\n",
      "0.845361839041531\n"
     ]
    },
    {
     "name": "stderr",
     "output_type": "stream",
     "text": [
      "C:\\Users\\dinhha\\AppData\\Local\\Temp\\ipykernel_14704\\2725347921.py:77: RuntimeWarning: Mean of empty slice\n",
      "  binned_Ca_baseline = np.nanmean(binned_Ca_baseline, axis=1)\n",
      "C:\\Users\\dinhha\\AppData\\Local\\Temp\\ipykernel_14704\\2725347921.py:77: RuntimeWarning: Mean of empty slice\n",
      "  binned_Ca_baseline = np.nanmean(binned_Ca_baseline, axis=1)\n"
     ]
    },
    {
     "name": "stdout",
     "output_type": "stream",
     "text": [
      "Mean21\n",
      "0.9233912196774057\n",
      "Mean3\n",
      "0.842700690063926\n",
      "Mean4\n",
      "0.8549894585326615\n",
      "Mean5\n",
      "0.8134060370009737\n"
     ]
    },
    {
     "name": "stderr",
     "output_type": "stream",
     "text": [
      "C:\\Users\\dinhha\\AppData\\Local\\Temp\\ipykernel_14704\\2725347921.py:77: RuntimeWarning: Mean of empty slice\n",
      "  binned_Ca_baseline = np.nanmean(binned_Ca_baseline, axis=1)\n",
      "C:\\Users\\dinhha\\AppData\\Local\\Temp\\ipykernel_14704\\2725347921.py:77: RuntimeWarning: Mean of empty slice\n",
      "  binned_Ca_baseline = np.nanmean(binned_Ca_baseline, axis=1)\n"
     ]
    },
    {
     "name": "stdout",
     "output_type": "stream",
     "text": [
      "Mean6\n",
      "0.9212327589856483\n"
     ]
    },
    {
     "name": "stderr",
     "output_type": "stream",
     "text": [
      "C:\\Users\\dinhha\\AppData\\Local\\Temp\\ipykernel_14704\\2725347921.py:77: RuntimeWarning: Mean of empty slice\n",
      "  binned_Ca_baseline = np.nanmean(binned_Ca_baseline, axis=1)\n",
      "C:\\Users\\dinhha\\AppData\\Local\\Temp\\ipykernel_14704\\2725347921.py:77: RuntimeWarning: Mean of empty slice\n",
      "  binned_Ca_baseline = np.nanmean(binned_Ca_baseline, axis=1)\n",
      "C:\\Users\\dinhha\\AppData\\Local\\Temp\\ipykernel_14704\\2725347921.py:77: RuntimeWarning: Mean of empty slice\n",
      "  binned_Ca_baseline = np.nanmean(binned_Ca_baseline, axis=1)\n"
     ]
    },
    {
     "name": "stdout",
     "output_type": "stream",
     "text": [
      "Mean7\n",
      "0.8212325473095974\n"
     ]
    },
    {
     "name": "stderr",
     "output_type": "stream",
     "text": [
      "C:\\Users\\dinhha\\AppData\\Local\\Temp\\ipykernel_14704\\2725347921.py:77: RuntimeWarning: Mean of empty slice\n",
      "  binned_Ca_baseline = np.nanmean(binned_Ca_baseline, axis=1)\n"
     ]
    },
    {
     "name": "stdout",
     "output_type": "stream",
     "text": [
      "Mean8\n",
      "0.8668215147538207\n",
      "Mean9\n",
      "0.8296210575335506\n"
     ]
    },
    {
     "name": "stderr",
     "output_type": "stream",
     "text": [
      "C:\\Users\\dinhha\\AppData\\Local\\Temp\\ipykernel_14704\\2725347921.py:77: RuntimeWarning: Mean of empty slice\n",
      "  binned_Ca_baseline = np.nanmean(binned_Ca_baseline, axis=1)\n"
     ]
    },
    {
     "name": "stdout",
     "output_type": "stream",
     "text": [
      "230224_slice01_ttap2_isra_ctrl_results.csv\n",
      "Mean1\n",
      "0.9335726378907454\n"
     ]
    },
    {
     "name": "stderr",
     "output_type": "stream",
     "text": [
      "C:\\Users\\dinhha\\AppData\\Local\\Temp\\ipykernel_14704\\2725347921.py:77: RuntimeWarning: Mean of empty slice\n",
      "  binned_Ca_baseline = np.nanmean(binned_Ca_baseline, axis=1)\n",
      "C:\\Users\\dinhha\\AppData\\Local\\Temp\\ipykernel_14704\\2725347921.py:77: RuntimeWarning: Mean of empty slice\n",
      "  binned_Ca_baseline = np.nanmean(binned_Ca_baseline, axis=1)\n",
      "C:\\Users\\dinhha\\AppData\\Local\\Temp\\ipykernel_14704\\2725347921.py:77: RuntimeWarning: Mean of empty slice\n",
      "  binned_Ca_baseline = np.nanmean(binned_Ca_baseline, axis=1)\n",
      "C:\\Users\\dinhha\\AppData\\Local\\Temp\\ipykernel_14704\\2725347921.py:77: RuntimeWarning: Mean of empty slice\n",
      "  binned_Ca_baseline = np.nanmean(binned_Ca_baseline, axis=1)\n"
     ]
    },
    {
     "name": "stdout",
     "output_type": "stream",
     "text": [
      "Mean10\n",
      "0.9435087077289361\n"
     ]
    },
    {
     "name": "stderr",
     "output_type": "stream",
     "text": [
      "C:\\Users\\dinhha\\AppData\\Local\\Temp\\ipykernel_14704\\2725347921.py:77: RuntimeWarning: Mean of empty slice\n",
      "  binned_Ca_baseline = np.nanmean(binned_Ca_baseline, axis=1)\n",
      "C:\\Users\\dinhha\\AppData\\Local\\Temp\\ipykernel_14704\\2725347921.py:77: RuntimeWarning: Mean of empty slice\n",
      "  binned_Ca_baseline = np.nanmean(binned_Ca_baseline, axis=1)\n",
      "C:\\Users\\dinhha\\AppData\\Local\\Temp\\ipykernel_14704\\2725347921.py:77: RuntimeWarning: Mean of empty slice\n",
      "  binned_Ca_baseline = np.nanmean(binned_Ca_baseline, axis=1)\n"
     ]
    },
    {
     "name": "stdout",
     "output_type": "stream",
     "text": [
      "Mean12\n",
      "1.0173832723424894\n"
     ]
    },
    {
     "name": "stderr",
     "output_type": "stream",
     "text": [
      "C:\\Users\\dinhha\\AppData\\Local\\Temp\\ipykernel_14704\\2725347921.py:77: RuntimeWarning: Mean of empty slice\n",
      "  binned_Ca_baseline = np.nanmean(binned_Ca_baseline, axis=1)\n"
     ]
    },
    {
     "name": "stdout",
     "output_type": "stream",
     "text": [
      "Mean13\n",
      "0.8717453815969314\n",
      "Mean14\n",
      "0.9589529121290947\n"
     ]
    },
    {
     "name": "stderr",
     "output_type": "stream",
     "text": [
      "C:\\Users\\dinhha\\AppData\\Local\\Temp\\ipykernel_14704\\2725347921.py:77: RuntimeWarning: Mean of empty slice\n",
      "  binned_Ca_baseline = np.nanmean(binned_Ca_baseline, axis=1)\n",
      "C:\\Users\\dinhha\\AppData\\Local\\Temp\\ipykernel_14704\\2725347921.py:77: RuntimeWarning: Mean of empty slice\n",
      "  binned_Ca_baseline = np.nanmean(binned_Ca_baseline, axis=1)\n",
      "C:\\Users\\dinhha\\AppData\\Local\\Temp\\ipykernel_14704\\2725347921.py:77: RuntimeWarning: Mean of empty slice\n",
      "  binned_Ca_baseline = np.nanmean(binned_Ca_baseline, axis=1)\n"
     ]
    },
    {
     "name": "stdout",
     "output_type": "stream",
     "text": [
      "Mean15\n",
      "0.923496142145408\n"
     ]
    },
    {
     "name": "stderr",
     "output_type": "stream",
     "text": [
      "C:\\Users\\dinhha\\AppData\\Local\\Temp\\ipykernel_14704\\2725347921.py:77: RuntimeWarning: Mean of empty slice\n",
      "  binned_Ca_baseline = np.nanmean(binned_Ca_baseline, axis=1)\n"
     ]
    },
    {
     "name": "stdout",
     "output_type": "stream",
     "text": [
      "Mean16\n",
      "0.9075744896609497\n"
     ]
    },
    {
     "name": "stderr",
     "output_type": "stream",
     "text": [
      "C:\\Users\\dinhha\\AppData\\Local\\Temp\\ipykernel_14704\\2725347921.py:77: RuntimeWarning: Mean of empty slice\n",
      "  binned_Ca_baseline = np.nanmean(binned_Ca_baseline, axis=1)\n",
      "C:\\Users\\dinhha\\AppData\\Local\\Temp\\ipykernel_14704\\2725347921.py:77: RuntimeWarning: Mean of empty slice\n",
      "  binned_Ca_baseline = np.nanmean(binned_Ca_baseline, axis=1)\n"
     ]
    },
    {
     "name": "stdout",
     "output_type": "stream",
     "text": [
      "Mean19\n",
      "0.8747076407565804\n"
     ]
    },
    {
     "name": "stderr",
     "output_type": "stream",
     "text": [
      "C:\\Users\\dinhha\\AppData\\Local\\Temp\\ipykernel_14704\\2725347921.py:77: RuntimeWarning: Mean of empty slice\n",
      "  binned_Ca_baseline = np.nanmean(binned_Ca_baseline, axis=1)\n",
      "C:\\Users\\dinhha\\AppData\\Local\\Temp\\ipykernel_14704\\2725347921.py:77: RuntimeWarning: Mean of empty slice\n",
      "  binned_Ca_baseline = np.nanmean(binned_Ca_baseline, axis=1)\n"
     ]
    },
    {
     "name": "stdout",
     "output_type": "stream",
     "text": [
      "Mean2\n",
      "0.9216882853489704\n"
     ]
    },
    {
     "name": "stderr",
     "output_type": "stream",
     "text": [
      "C:\\Users\\dinhha\\AppData\\Local\\Temp\\ipykernel_14704\\2725347921.py:77: RuntimeWarning: Mean of empty slice\n",
      "  binned_Ca_baseline = np.nanmean(binned_Ca_baseline, axis=1)\n",
      "C:\\Users\\dinhha\\AppData\\Local\\Temp\\ipykernel_14704\\2725347921.py:77: RuntimeWarning: Mean of empty slice\n",
      "  binned_Ca_baseline = np.nanmean(binned_Ca_baseline, axis=1)\n",
      "C:\\Users\\dinhha\\AppData\\Local\\Temp\\ipykernel_14704\\2725347921.py:77: RuntimeWarning: Mean of empty slice\n",
      "  binned_Ca_baseline = np.nanmean(binned_Ca_baseline, axis=1)\n"
     ]
    },
    {
     "name": "stdout",
     "output_type": "stream",
     "text": [
      "Mean20\n",
      "0.9177890304660288\n"
     ]
    },
    {
     "name": "stderr",
     "output_type": "stream",
     "text": [
      "C:\\Users\\dinhha\\AppData\\Local\\Temp\\ipykernel_14704\\2725347921.py:77: RuntimeWarning: Mean of empty slice\n",
      "  binned_Ca_baseline = np.nanmean(binned_Ca_baseline, axis=1)\n"
     ]
    },
    {
     "name": "stdout",
     "output_type": "stream",
     "text": [
      "Mean21\n",
      "0.9378364269653013\n"
     ]
    },
    {
     "name": "stderr",
     "output_type": "stream",
     "text": [
      "C:\\Users\\dinhha\\AppData\\Local\\Temp\\ipykernel_14704\\2725347921.py:77: RuntimeWarning: Mean of empty slice\n",
      "  binned_Ca_baseline = np.nanmean(binned_Ca_baseline, axis=1)\n",
      "C:\\Users\\dinhha\\AppData\\Local\\Temp\\ipykernel_14704\\2725347921.py:77: RuntimeWarning: Mean of empty slice\n",
      "  binned_Ca_baseline = np.nanmean(binned_Ca_baseline, axis=1)\n"
     ]
    },
    {
     "name": "stdout",
     "output_type": "stream",
     "text": [
      "Mean22\n",
      "1.0532946078215246\n"
     ]
    },
    {
     "name": "stderr",
     "output_type": "stream",
     "text": [
      "C:\\Users\\dinhha\\AppData\\Local\\Temp\\ipykernel_14704\\2725347921.py:77: RuntimeWarning: Mean of empty slice\n",
      "  binned_Ca_baseline = np.nanmean(binned_Ca_baseline, axis=1)\n"
     ]
    },
    {
     "name": "stdout",
     "output_type": "stream",
     "text": [
      "Mean23\n",
      "0.990504386931793\n"
     ]
    },
    {
     "name": "stderr",
     "output_type": "stream",
     "text": [
      "C:\\Users\\dinhha\\AppData\\Local\\Temp\\ipykernel_14704\\2725347921.py:77: RuntimeWarning: Mean of empty slice\n",
      "  binned_Ca_baseline = np.nanmean(binned_Ca_baseline, axis=1)\n"
     ]
    },
    {
     "name": "stdout",
     "output_type": "stream",
     "text": [
      "Mean24\n",
      "0.9549158326352454\n"
     ]
    },
    {
     "name": "stderr",
     "output_type": "stream",
     "text": [
      "C:\\Users\\dinhha\\AppData\\Local\\Temp\\ipykernel_14704\\2725347921.py:77: RuntimeWarning: Mean of empty slice\n",
      "  binned_Ca_baseline = np.nanmean(binned_Ca_baseline, axis=1)\n",
      "C:\\Users\\dinhha\\AppData\\Local\\Temp\\ipykernel_14704\\2725347921.py:77: RuntimeWarning: Mean of empty slice\n",
      "  binned_Ca_baseline = np.nanmean(binned_Ca_baseline, axis=1)\n"
     ]
    },
    {
     "name": "stdout",
     "output_type": "stream",
     "text": [
      "Mean26\n",
      "0.9031386182267096\n"
     ]
    },
    {
     "name": "stderr",
     "output_type": "stream",
     "text": [
      "C:\\Users\\dinhha\\AppData\\Local\\Temp\\ipykernel_14704\\2725347921.py:77: RuntimeWarning: Mean of empty slice\n",
      "  binned_Ca_baseline = np.nanmean(binned_Ca_baseline, axis=1)\n",
      "C:\\Users\\dinhha\\AppData\\Local\\Temp\\ipykernel_14704\\2725347921.py:77: RuntimeWarning: Mean of empty slice\n",
      "  binned_Ca_baseline = np.nanmean(binned_Ca_baseline, axis=1)\n"
     ]
    },
    {
     "name": "stdout",
     "output_type": "stream",
     "text": [
      "Mean27\n",
      "0.9680016313213704\n"
     ]
    },
    {
     "name": "stderr",
     "output_type": "stream",
     "text": [
      "C:\\Users\\dinhha\\AppData\\Local\\Temp\\ipykernel_14704\\2725347921.py:77: RuntimeWarning: Mean of empty slice\n",
      "  binned_Ca_baseline = np.nanmean(binned_Ca_baseline, axis=1)\n",
      "C:\\Users\\dinhha\\AppData\\Local\\Temp\\ipykernel_14704\\2725347921.py:77: RuntimeWarning: Mean of empty slice\n",
      "  binned_Ca_baseline = np.nanmean(binned_Ca_baseline, axis=1)\n",
      "C:\\Users\\dinhha\\AppData\\Local\\Temp\\ipykernel_14704\\2725347921.py:77: RuntimeWarning: Mean of empty slice\n",
      "  binned_Ca_baseline = np.nanmean(binned_Ca_baseline, axis=1)\n"
     ]
    },
    {
     "name": "stdout",
     "output_type": "stream",
     "text": [
      "Mean28\n",
      "0.9527236012521493\n"
     ]
    },
    {
     "name": "stderr",
     "output_type": "stream",
     "text": [
      "C:\\Users\\dinhha\\AppData\\Local\\Temp\\ipykernel_14704\\2725347921.py:77: RuntimeWarning: Mean of empty slice\n",
      "  binned_Ca_baseline = np.nanmean(binned_Ca_baseline, axis=1)\n",
      "C:\\Users\\dinhha\\AppData\\Local\\Temp\\ipykernel_14704\\2725347921.py:77: RuntimeWarning: Mean of empty slice\n",
      "  binned_Ca_baseline = np.nanmean(binned_Ca_baseline, axis=1)\n",
      "C:\\Users\\dinhha\\AppData\\Local\\Temp\\ipykernel_14704\\2725347921.py:77: RuntimeWarning: Mean of empty slice\n",
      "  binned_Ca_baseline = np.nanmean(binned_Ca_baseline, axis=1)\n"
     ]
    },
    {
     "name": "stdout",
     "output_type": "stream",
     "text": [
      "Mean29\n",
      "0.949896918125303\n"
     ]
    },
    {
     "name": "stderr",
     "output_type": "stream",
     "text": [
      "C:\\Users\\dinhha\\AppData\\Local\\Temp\\ipykernel_14704\\2725347921.py:77: RuntimeWarning: Mean of empty slice\n",
      "  binned_Ca_baseline = np.nanmean(binned_Ca_baseline, axis=1)\n"
     ]
    },
    {
     "name": "stdout",
     "output_type": "stream",
     "text": [
      "Mean3\n",
      "0.8465506370971296\n"
     ]
    },
    {
     "name": "stderr",
     "output_type": "stream",
     "text": [
      "C:\\Users\\dinhha\\AppData\\Local\\Temp\\ipykernel_14704\\2725347921.py:77: RuntimeWarning: Mean of empty slice\n",
      "  binned_Ca_baseline = np.nanmean(binned_Ca_baseline, axis=1)\n",
      "C:\\Users\\dinhha\\AppData\\Local\\Temp\\ipykernel_14704\\2725347921.py:77: RuntimeWarning: Mean of empty slice\n",
      "  binned_Ca_baseline = np.nanmean(binned_Ca_baseline, axis=1)\n"
     ]
    },
    {
     "name": "stdout",
     "output_type": "stream",
     "text": [
      "Mean30\n",
      "0.9794033772761341\n"
     ]
    },
    {
     "name": "stderr",
     "output_type": "stream",
     "text": [
      "C:\\Users\\dinhha\\AppData\\Local\\Temp\\ipykernel_14704\\2725347921.py:77: RuntimeWarning: Mean of empty slice\n",
      "  binned_Ca_baseline = np.nanmean(binned_Ca_baseline, axis=1)\n",
      "C:\\Users\\dinhha\\AppData\\Local\\Temp\\ipykernel_14704\\2725347921.py:77: RuntimeWarning: Mean of empty slice\n",
      "  binned_Ca_baseline = np.nanmean(binned_Ca_baseline, axis=1)\n",
      "C:\\Users\\dinhha\\AppData\\Local\\Temp\\ipykernel_14704\\2725347921.py:77: RuntimeWarning: Mean of empty slice\n",
      "  binned_Ca_baseline = np.nanmean(binned_Ca_baseline, axis=1)\n"
     ]
    },
    {
     "name": "stdout",
     "output_type": "stream",
     "text": [
      "Mean31\n",
      "0.9759546757197654\n"
     ]
    },
    {
     "name": "stderr",
     "output_type": "stream",
     "text": [
      "C:\\Users\\dinhha\\AppData\\Local\\Temp\\ipykernel_14704\\2725347921.py:77: RuntimeWarning: Mean of empty slice\n",
      "  binned_Ca_baseline = np.nanmean(binned_Ca_baseline, axis=1)\n",
      "C:\\Users\\dinhha\\AppData\\Local\\Temp\\ipykernel_14704\\2725347921.py:77: RuntimeWarning: Mean of empty slice\n",
      "  binned_Ca_baseline = np.nanmean(binned_Ca_baseline, axis=1)\n"
     ]
    },
    {
     "name": "stdout",
     "output_type": "stream",
     "text": [
      "Mean32\n",
      "0.9958843084520083\n"
     ]
    },
    {
     "name": "stderr",
     "output_type": "stream",
     "text": [
      "C:\\Users\\dinhha\\AppData\\Local\\Temp\\ipykernel_14704\\2725347921.py:77: RuntimeWarning: Mean of empty slice\n",
      "  binned_Ca_baseline = np.nanmean(binned_Ca_baseline, axis=1)\n",
      "C:\\Users\\dinhha\\AppData\\Local\\Temp\\ipykernel_14704\\2725347921.py:77: RuntimeWarning: Mean of empty slice\n",
      "  binned_Ca_baseline = np.nanmean(binned_Ca_baseline, axis=1)\n",
      "C:\\Users\\dinhha\\AppData\\Local\\Temp\\ipykernel_14704\\2725347921.py:77: RuntimeWarning: Mean of empty slice\n",
      "  binned_Ca_baseline = np.nanmean(binned_Ca_baseline, axis=1)\n"
     ]
    },
    {
     "name": "stdout",
     "output_type": "stream",
     "text": [
      "Mean33\n",
      "0.9580145937127992\n",
      "Mean34\n",
      "0.9296909307349764\n",
      "Mean5\n",
      "0.9290140646355981\n"
     ]
    },
    {
     "name": "stderr",
     "output_type": "stream",
     "text": [
      "C:\\Users\\dinhha\\AppData\\Local\\Temp\\ipykernel_14704\\2725347921.py:77: RuntimeWarning: Mean of empty slice\n",
      "  binned_Ca_baseline = np.nanmean(binned_Ca_baseline, axis=1)\n",
      "C:\\Users\\dinhha\\AppData\\Local\\Temp\\ipykernel_14704\\2725347921.py:77: RuntimeWarning: Mean of empty slice\n",
      "  binned_Ca_baseline = np.nanmean(binned_Ca_baseline, axis=1)\n",
      "C:\\Users\\dinhha\\AppData\\Local\\Temp\\ipykernel_14704\\2725347921.py:77: RuntimeWarning: Mean of empty slice\n",
      "  binned_Ca_baseline = np.nanmean(binned_Ca_baseline, axis=1)\n"
     ]
    },
    {
     "name": "stdout",
     "output_type": "stream",
     "text": [
      "Mean6\n",
      "0.7657687932630837\n"
     ]
    },
    {
     "name": "stderr",
     "output_type": "stream",
     "text": [
      "C:\\Users\\dinhha\\AppData\\Local\\Temp\\ipykernel_14704\\2725347921.py:77: RuntimeWarning: Mean of empty slice\n",
      "  binned_Ca_baseline = np.nanmean(binned_Ca_baseline, axis=1)\n",
      "C:\\Users\\dinhha\\AppData\\Local\\Temp\\ipykernel_14704\\2725347921.py:77: RuntimeWarning: Mean of empty slice\n",
      "  binned_Ca_baseline = np.nanmean(binned_Ca_baseline, axis=1)\n"
     ]
    },
    {
     "name": "stdout",
     "output_type": "stream",
     "text": [
      "Mean7\n",
      "0.8681810325823376\n"
     ]
    },
    {
     "name": "stderr",
     "output_type": "stream",
     "text": [
      "C:\\Users\\dinhha\\AppData\\Local\\Temp\\ipykernel_14704\\2725347921.py:77: RuntimeWarning: Mean of empty slice\n",
      "  binned_Ca_baseline = np.nanmean(binned_Ca_baseline, axis=1)\n",
      "C:\\Users\\dinhha\\AppData\\Local\\Temp\\ipykernel_14704\\2725347921.py:77: RuntimeWarning: Mean of empty slice\n",
      "  binned_Ca_baseline = np.nanmean(binned_Ca_baseline, axis=1)\n"
     ]
    },
    {
     "name": "stdout",
     "output_type": "stream",
     "text": [
      "Mean8\n",
      "0.8619806005026235\n",
      "230224_slice04_ttap2_isra_results.csv\n",
      "Mean1\n",
      "0.8872983795366278\n"
     ]
    },
    {
     "name": "stderr",
     "output_type": "stream",
     "text": [
      "C:\\Users\\dinhha\\AppData\\Local\\Temp\\ipykernel_14704\\2725347921.py:77: RuntimeWarning: Mean of empty slice\n",
      "  binned_Ca_baseline = np.nanmean(binned_Ca_baseline, axis=1)\n"
     ]
    },
    {
     "name": "stdout",
     "output_type": "stream",
     "text": [
      "Mean10\n",
      "0.9137636266238115\n"
     ]
    },
    {
     "name": "stderr",
     "output_type": "stream",
     "text": [
      "C:\\Users\\dinhha\\AppData\\Local\\Temp\\ipykernel_14704\\2725347921.py:77: RuntimeWarning: Mean of empty slice\n",
      "  binned_Ca_baseline = np.nanmean(binned_Ca_baseline, axis=1)\n"
     ]
    },
    {
     "name": "stdout",
     "output_type": "stream",
     "text": [
      "Mean11\n",
      "0.8873453417258159\n"
     ]
    },
    {
     "name": "stderr",
     "output_type": "stream",
     "text": [
      "C:\\Users\\dinhha\\AppData\\Local\\Temp\\ipykernel_14704\\2725347921.py:77: RuntimeWarning: Mean of empty slice\n",
      "  binned_Ca_baseline = np.nanmean(binned_Ca_baseline, axis=1)\n"
     ]
    },
    {
     "name": "stdout",
     "output_type": "stream",
     "text": [
      "Mean12\n",
      "0.9428415695727869\n"
     ]
    },
    {
     "name": "stderr",
     "output_type": "stream",
     "text": [
      "C:\\Users\\dinhha\\AppData\\Local\\Temp\\ipykernel_14704\\2725347921.py:77: RuntimeWarning: Mean of empty slice\n",
      "  binned_Ca_baseline = np.nanmean(binned_Ca_baseline, axis=1)\n"
     ]
    },
    {
     "name": "stdout",
     "output_type": "stream",
     "text": [
      "Mean13\n",
      "0.8789568769251372\n"
     ]
    },
    {
     "name": "stderr",
     "output_type": "stream",
     "text": [
      "C:\\Users\\dinhha\\AppData\\Local\\Temp\\ipykernel_14704\\2725347921.py:77: RuntimeWarning: Mean of empty slice\n",
      "  binned_Ca_baseline = np.nanmean(binned_Ca_baseline, axis=1)\n",
      "C:\\Users\\dinhha\\AppData\\Local\\Temp\\ipykernel_14704\\2725347921.py:77: RuntimeWarning: Mean of empty slice\n",
      "  binned_Ca_baseline = np.nanmean(binned_Ca_baseline, axis=1)\n"
     ]
    },
    {
     "name": "stdout",
     "output_type": "stream",
     "text": [
      "Mean14\n",
      "0.8476178295611804\n",
      "Mean15\n",
      "0.9997337618856301\n"
     ]
    },
    {
     "name": "stderr",
     "output_type": "stream",
     "text": [
      "C:\\Users\\dinhha\\AppData\\Local\\Temp\\ipykernel_14704\\2725347921.py:77: RuntimeWarning: Mean of empty slice\n",
      "  binned_Ca_baseline = np.nanmean(binned_Ca_baseline, axis=1)\n"
     ]
    },
    {
     "name": "stdout",
     "output_type": "stream",
     "text": [
      "Mean17\n",
      "0.9036964867639838\n",
      "Mean18\n",
      "0.8699650908441585\n",
      "Mean19\n",
      "0.9859892415517163\n"
     ]
    },
    {
     "name": "stderr",
     "output_type": "stream",
     "text": [
      "C:\\Users\\dinhha\\AppData\\Local\\Temp\\ipykernel_14704\\2725347921.py:77: RuntimeWarning: Mean of empty slice\n",
      "  binned_Ca_baseline = np.nanmean(binned_Ca_baseline, axis=1)\n"
     ]
    },
    {
     "name": "stdout",
     "output_type": "stream",
     "text": [
      "Mean2\n",
      "0.9014709164769429\n"
     ]
    },
    {
     "name": "stderr",
     "output_type": "stream",
     "text": [
      "C:\\Users\\dinhha\\AppData\\Local\\Temp\\ipykernel_14704\\2725347921.py:77: RuntimeWarning: Mean of empty slice\n",
      "  binned_Ca_baseline = np.nanmean(binned_Ca_baseline, axis=1)\n"
     ]
    },
    {
     "name": "stdout",
     "output_type": "stream",
     "text": [
      "Mean20\n",
      "0.9059875451988751\n",
      "Mean21\n",
      "0.9786914423463239\n",
      "Mean22\n",
      "0.9341620909780813\n"
     ]
    },
    {
     "name": "stderr",
     "output_type": "stream",
     "text": [
      "C:\\Users\\dinhha\\AppData\\Local\\Temp\\ipykernel_14704\\2725347921.py:77: RuntimeWarning: Mean of empty slice\n",
      "  binned_Ca_baseline = np.nanmean(binned_Ca_baseline, axis=1)\n"
     ]
    },
    {
     "name": "stdout",
     "output_type": "stream",
     "text": [
      "Mean23\n",
      "1.0546888531761975\n"
     ]
    },
    {
     "name": "stderr",
     "output_type": "stream",
     "text": [
      "C:\\Users\\dinhha\\AppData\\Local\\Temp\\ipykernel_14704\\2725347921.py:77: RuntimeWarning: Mean of empty slice\n",
      "  binned_Ca_baseline = np.nanmean(binned_Ca_baseline, axis=1)\n"
     ]
    },
    {
     "name": "stdout",
     "output_type": "stream",
     "text": [
      "Mean24\n",
      "0.9990886121155307\n"
     ]
    },
    {
     "name": "stderr",
     "output_type": "stream",
     "text": [
      "C:\\Users\\dinhha\\AppData\\Local\\Temp\\ipykernel_14704\\2725347921.py:77: RuntimeWarning: Mean of empty slice\n",
      "  binned_Ca_baseline = np.nanmean(binned_Ca_baseline, axis=1)\n"
     ]
    },
    {
     "name": "stdout",
     "output_type": "stream",
     "text": [
      "Mean25\n",
      "0.8620125440828534\n"
     ]
    },
    {
     "name": "stderr",
     "output_type": "stream",
     "text": [
      "C:\\Users\\dinhha\\AppData\\Local\\Temp\\ipykernel_14704\\2725347921.py:77: RuntimeWarning: Mean of empty slice\n",
      "  binned_Ca_baseline = np.nanmean(binned_Ca_baseline, axis=1)\n"
     ]
    },
    {
     "name": "stdout",
     "output_type": "stream",
     "text": [
      "Mean26\n",
      "0.8780457568858533\n"
     ]
    },
    {
     "name": "stderr",
     "output_type": "stream",
     "text": [
      "C:\\Users\\dinhha\\AppData\\Local\\Temp\\ipykernel_14704\\2725347921.py:77: RuntimeWarning: Mean of empty slice\n",
      "  binned_Ca_baseline = np.nanmean(binned_Ca_baseline, axis=1)\n"
     ]
    },
    {
     "name": "stdout",
     "output_type": "stream",
     "text": [
      "Mean27\n",
      "0.8663727065755992\n"
     ]
    },
    {
     "name": "stderr",
     "output_type": "stream",
     "text": [
      "C:\\Users\\dinhha\\AppData\\Local\\Temp\\ipykernel_14704\\2725347921.py:77: RuntimeWarning: Mean of empty slice\n",
      "  binned_Ca_baseline = np.nanmean(binned_Ca_baseline, axis=1)\n"
     ]
    },
    {
     "name": "stdout",
     "output_type": "stream",
     "text": [
      "Mean28\n",
      "0.8773907861256194\n"
     ]
    },
    {
     "name": "stderr",
     "output_type": "stream",
     "text": [
      "C:\\Users\\dinhha\\AppData\\Local\\Temp\\ipykernel_14704\\2725347921.py:77: RuntimeWarning: Mean of empty slice\n",
      "  binned_Ca_baseline = np.nanmean(binned_Ca_baseline, axis=1)\n"
     ]
    },
    {
     "name": "stdout",
     "output_type": "stream",
     "text": [
      "Mean29\n",
      "0.8857285835453773\n"
     ]
    },
    {
     "name": "stderr",
     "output_type": "stream",
     "text": [
      "C:\\Users\\dinhha\\AppData\\Local\\Temp\\ipykernel_14704\\2725347921.py:77: RuntimeWarning: Mean of empty slice\n",
      "  binned_Ca_baseline = np.nanmean(binned_Ca_baseline, axis=1)\n"
     ]
    },
    {
     "name": "stdout",
     "output_type": "stream",
     "text": [
      "Mean3\n",
      "0.7994970760233918\n",
      "Mean30\n",
      "0.9637023347172001\n"
     ]
    },
    {
     "name": "stderr",
     "output_type": "stream",
     "text": [
      "C:\\Users\\dinhha\\AppData\\Local\\Temp\\ipykernel_14704\\2725347921.py:77: RuntimeWarning: Mean of empty slice\n",
      "  binned_Ca_baseline = np.nanmean(binned_Ca_baseline, axis=1)\n"
     ]
    },
    {
     "name": "stdout",
     "output_type": "stream",
     "text": [
      "Mean31\n",
      "0.9477990268291594\n",
      "Mean32\n",
      "0.8431500825855988\n",
      "Mean33\n",
      "0.9785973394044909\n"
     ]
    },
    {
     "name": "stderr",
     "output_type": "stream",
     "text": [
      "C:\\Users\\dinhha\\AppData\\Local\\Temp\\ipykernel_14704\\2725347921.py:77: RuntimeWarning: Mean of empty slice\n",
      "  binned_Ca_baseline = np.nanmean(binned_Ca_baseline, axis=1)\n"
     ]
    },
    {
     "name": "stdout",
     "output_type": "stream",
     "text": [
      "Mean34\n",
      "0.8753390027230926\n",
      "Mean35\n",
      "0.8605593500290165\n"
     ]
    },
    {
     "name": "stderr",
     "output_type": "stream",
     "text": [
      "C:\\Users\\dinhha\\AppData\\Local\\Temp\\ipykernel_14704\\2725347921.py:77: RuntimeWarning: Mean of empty slice\n",
      "  binned_Ca_baseline = np.nanmean(binned_Ca_baseline, axis=1)\n"
     ]
    },
    {
     "name": "stdout",
     "output_type": "stream",
     "text": [
      "Mean36\n",
      "0.931135842149904\n"
     ]
    },
    {
     "name": "stderr",
     "output_type": "stream",
     "text": [
      "C:\\Users\\dinhha\\AppData\\Local\\Temp\\ipykernel_14704\\2725347921.py:77: RuntimeWarning: Mean of empty slice\n",
      "  binned_Ca_baseline = np.nanmean(binned_Ca_baseline, axis=1)\n"
     ]
    },
    {
     "name": "stdout",
     "output_type": "stream",
     "text": [
      "Mean37\n",
      "0.8812305254229722\n"
     ]
    },
    {
     "name": "stderr",
     "output_type": "stream",
     "text": [
      "C:\\Users\\dinhha\\AppData\\Local\\Temp\\ipykernel_14704\\2725347921.py:77: RuntimeWarning: Mean of empty slice\n",
      "  binned_Ca_baseline = np.nanmean(binned_Ca_baseline, axis=1)\n"
     ]
    },
    {
     "name": "stdout",
     "output_type": "stream",
     "text": [
      "Mean38\n",
      "0.8469980358019731\n",
      "Mean39\n",
      "0.9268846480067854\n"
     ]
    },
    {
     "name": "stderr",
     "output_type": "stream",
     "text": [
      "C:\\Users\\dinhha\\AppData\\Local\\Temp\\ipykernel_14704\\2725347921.py:77: RuntimeWarning: Mean of empty slice\n",
      "  binned_Ca_baseline = np.nanmean(binned_Ca_baseline, axis=1)\n"
     ]
    },
    {
     "name": "stdout",
     "output_type": "stream",
     "text": [
      "Mean4\n",
      "0.9912538725949733\n",
      "Mean40\n",
      "0.9067149234409179\n",
      "Mean5\n",
      "0.9019075934110083\n"
     ]
    },
    {
     "name": "stderr",
     "output_type": "stream",
     "text": [
      "C:\\Users\\dinhha\\AppData\\Local\\Temp\\ipykernel_14704\\2725347921.py:77: RuntimeWarning: Mean of empty slice\n",
      "  binned_Ca_baseline = np.nanmean(binned_Ca_baseline, axis=1)\n"
     ]
    },
    {
     "name": "stdout",
     "output_type": "stream",
     "text": [
      "Mean6\n",
      "0.9055028346948798\n"
     ]
    },
    {
     "name": "stderr",
     "output_type": "stream",
     "text": [
      "C:\\Users\\dinhha\\AppData\\Local\\Temp\\ipykernel_14704\\2725347921.py:77: RuntimeWarning: Mean of empty slice\n",
      "  binned_Ca_baseline = np.nanmean(binned_Ca_baseline, axis=1)\n"
     ]
    },
    {
     "name": "stdout",
     "output_type": "stream",
     "text": [
      "Mean7\n",
      "0.9180152671755725\n"
     ]
    },
    {
     "name": "stderr",
     "output_type": "stream",
     "text": [
      "C:\\Users\\dinhha\\AppData\\Local\\Temp\\ipykernel_14704\\2725347921.py:77: RuntimeWarning: Mean of empty slice\n",
      "  binned_Ca_baseline = np.nanmean(binned_Ca_baseline, axis=1)\n"
     ]
    },
    {
     "name": "stdout",
     "output_type": "stream",
     "text": [
      "Mean8\n",
      "0.8396297486719342\n"
     ]
    },
    {
     "name": "stderr",
     "output_type": "stream",
     "text": [
      "C:\\Users\\dinhha\\AppData\\Local\\Temp\\ipykernel_14704\\2725347921.py:77: RuntimeWarning: Mean of empty slice\n",
      "  binned_Ca_baseline = np.nanmean(binned_Ca_baseline, axis=1)\n"
     ]
    },
    {
     "name": "stdout",
     "output_type": "stream",
     "text": [
      "Mean9\n",
      "0.8965812686933621\n"
     ]
    },
    {
     "name": "stderr",
     "output_type": "stream",
     "text": [
      "C:\\Users\\dinhha\\AppData\\Local\\Temp\\ipykernel_14704\\2725347921.py:77: RuntimeWarning: Mean of empty slice\n",
      "  binned_Ca_baseline = np.nanmean(binned_Ca_baseline, axis=1)\n"
     ]
    },
    {
     "name": "stdout",
     "output_type": "stream",
     "text": [
      "230224_slice06_ttap2_isra_ctrl_results.csv\n",
      "Mean1\n",
      "0.8257424997774415\n"
     ]
    },
    {
     "name": "stderr",
     "output_type": "stream",
     "text": [
      "C:\\Users\\dinhha\\AppData\\Local\\Temp\\ipykernel_14704\\2725347921.py:77: RuntimeWarning: Mean of empty slice\n",
      "  binned_Ca_baseline = np.nanmean(binned_Ca_baseline, axis=1)\n"
     ]
    },
    {
     "name": "stdout",
     "output_type": "stream",
     "text": [
      "Mean10\n",
      "0.9870057865218552\n"
     ]
    },
    {
     "name": "stderr",
     "output_type": "stream",
     "text": [
      "C:\\Users\\dinhha\\AppData\\Local\\Temp\\ipykernel_14704\\2725347921.py:77: RuntimeWarning: Mean of empty slice\n",
      "  binned_Ca_baseline = np.nanmean(binned_Ca_baseline, axis=1)\n"
     ]
    },
    {
     "name": "stdout",
     "output_type": "stream",
     "text": [
      "Mean11\n",
      "0.904197008813318\n"
     ]
    },
    {
     "name": "stderr",
     "output_type": "stream",
     "text": [
      "C:\\Users\\dinhha\\AppData\\Local\\Temp\\ipykernel_14704\\2725347921.py:77: RuntimeWarning: Mean of empty slice\n",
      "  binned_Ca_baseline = np.nanmean(binned_Ca_baseline, axis=1)\n"
     ]
    },
    {
     "name": "stdout",
     "output_type": "stream",
     "text": [
      "Mean12\n",
      "0.9180806107006143\n",
      "Mean14\n",
      "1.0220324045223894\n",
      "Mean15\n",
      "0.9546671859699101\n"
     ]
    },
    {
     "name": "stderr",
     "output_type": "stream",
     "text": [
      "C:\\Users\\dinhha\\AppData\\Local\\Temp\\ipykernel_14704\\2725347921.py:77: RuntimeWarning: Mean of empty slice\n",
      "  binned_Ca_baseline = np.nanmean(binned_Ca_baseline, axis=1)\n"
     ]
    },
    {
     "name": "stdout",
     "output_type": "stream",
     "text": [
      "Mean16\n",
      "0.909152719665272\n"
     ]
    },
    {
     "name": "stderr",
     "output_type": "stream",
     "text": [
      "C:\\Users\\dinhha\\AppData\\Local\\Temp\\ipykernel_14704\\2725347921.py:77: RuntimeWarning: Mean of empty slice\n",
      "  binned_Ca_baseline = np.nanmean(binned_Ca_baseline, axis=1)\n",
      "C:\\Users\\dinhha\\AppData\\Local\\Temp\\ipykernel_14704\\2725347921.py:77: RuntimeWarning: Mean of empty slice\n",
      "  binned_Ca_baseline = np.nanmean(binned_Ca_baseline, axis=1)\n",
      "C:\\Users\\dinhha\\AppData\\Local\\Temp\\ipykernel_14704\\2725347921.py:77: RuntimeWarning: Mean of empty slice\n",
      "  binned_Ca_baseline = np.nanmean(binned_Ca_baseline, axis=1)\n",
      "C:\\Users\\dinhha\\AppData\\Local\\Temp\\ipykernel_14704\\2725347921.py:77: RuntimeWarning: Mean of empty slice\n",
      "  binned_Ca_baseline = np.nanmean(binned_Ca_baseline, axis=1)\n"
     ]
    },
    {
     "name": "stdout",
     "output_type": "stream",
     "text": [
      "Mean2\n",
      "0.9810566634024749\n"
     ]
    },
    {
     "name": "stderr",
     "output_type": "stream",
     "text": [
      "C:\\Users\\dinhha\\AppData\\Local\\Temp\\ipykernel_14704\\2725347921.py:77: RuntimeWarning: Mean of empty slice\n",
      "  binned_Ca_baseline = np.nanmean(binned_Ca_baseline, axis=1)\n",
      "C:\\Users\\dinhha\\AppData\\Local\\Temp\\ipykernel_14704\\2725347921.py:77: RuntimeWarning: Mean of empty slice\n",
      "  binned_Ca_baseline = np.nanmean(binned_Ca_baseline, axis=1)\n"
     ]
    },
    {
     "name": "stdout",
     "output_type": "stream",
     "text": [
      "Mean3\n",
      "0.9832760170924952\n",
      "Mean4\n",
      "0.9586913558265824\n"
     ]
    },
    {
     "name": "stderr",
     "output_type": "stream",
     "text": [
      "C:\\Users\\dinhha\\AppData\\Local\\Temp\\ipykernel_14704\\2725347921.py:77: RuntimeWarning: Mean of empty slice\n",
      "  binned_Ca_baseline = np.nanmean(binned_Ca_baseline, axis=1)\n",
      "C:\\Users\\dinhha\\AppData\\Local\\Temp\\ipykernel_14704\\2725347921.py:77: RuntimeWarning: Mean of empty slice\n",
      "  binned_Ca_baseline = np.nanmean(binned_Ca_baseline, axis=1)\n"
     ]
    },
    {
     "name": "stdout",
     "output_type": "stream",
     "text": [
      "Mean5\n",
      "0.8840083682008367\n"
     ]
    },
    {
     "name": "stderr",
     "output_type": "stream",
     "text": [
      "C:\\Users\\dinhha\\AppData\\Local\\Temp\\ipykernel_14704\\2725347921.py:77: RuntimeWarning: Mean of empty slice\n",
      "  binned_Ca_baseline = np.nanmean(binned_Ca_baseline, axis=1)\n"
     ]
    },
    {
     "name": "stdout",
     "output_type": "stream",
     "text": [
      "Mean6\n",
      "0.8557137452149916\n"
     ]
    },
    {
     "name": "stderr",
     "output_type": "stream",
     "text": [
      "C:\\Users\\dinhha\\AppData\\Local\\Temp\\ipykernel_14704\\2725347921.py:77: RuntimeWarning: Mean of empty slice\n",
      "  binned_Ca_baseline = np.nanmean(binned_Ca_baseline, axis=1)\n"
     ]
    },
    {
     "name": "stdout",
     "output_type": "stream",
     "text": [
      "Mean7\n",
      "0.8589410665004897\n"
     ]
    },
    {
     "name": "stderr",
     "output_type": "stream",
     "text": [
      "C:\\Users\\dinhha\\AppData\\Local\\Temp\\ipykernel_14704\\2725347921.py:77: RuntimeWarning: Mean of empty slice\n",
      "  binned_Ca_baseline = np.nanmean(binned_Ca_baseline, axis=1)\n"
     ]
    },
    {
     "name": "stdout",
     "output_type": "stream",
     "text": [
      "Mean8\n",
      "0.8564007388943291\n"
     ]
    },
    {
     "name": "stderr",
     "output_type": "stream",
     "text": [
      "C:\\Users\\dinhha\\AppData\\Local\\Temp\\ipykernel_14704\\2725347921.py:77: RuntimeWarning: Mean of empty slice\n",
      "  binned_Ca_baseline = np.nanmean(binned_Ca_baseline, axis=1)\n"
     ]
    },
    {
     "name": "stdout",
     "output_type": "stream",
     "text": [
      "Mean9\n",
      "0.877232929760527\n"
     ]
    },
    {
     "name": "stderr",
     "output_type": "stream",
     "text": [
      "C:\\Users\\dinhha\\AppData\\Local\\Temp\\ipykernel_14704\\2725347921.py:77: RuntimeWarning: Mean of empty slice\n",
      "  binned_Ca_baseline = np.nanmean(binned_Ca_baseline, axis=1)\n"
     ]
    },
    {
     "name": "stdout",
     "output_type": "stream",
     "text": [
      "230227_slice03_ttap2_isra_results.csv\n",
      "Mean1\n",
      "0.7185661219062326\n",
      "Mean10\n",
      "0.8463247115343372\n"
     ]
    },
    {
     "name": "stderr",
     "output_type": "stream",
     "text": [
      "C:\\Users\\dinhha\\AppData\\Local\\Temp\\ipykernel_14704\\2725347921.py:77: RuntimeWarning: Mean of empty slice\n",
      "  binned_Ca_baseline = np.nanmean(binned_Ca_baseline, axis=1)\n"
     ]
    },
    {
     "name": "stdout",
     "output_type": "stream",
     "text": [
      "Mean11\n",
      "0.8273360356882427\n",
      "Mean12\n",
      "0.9348928065885986\n",
      "Mean13\n",
      "0.8641652725946897\n"
     ]
    },
    {
     "name": "stderr",
     "output_type": "stream",
     "text": [
      "C:\\Users\\dinhha\\AppData\\Local\\Temp\\ipykernel_14704\\2725347921.py:77: RuntimeWarning: Mean of empty slice\n",
      "  binned_Ca_baseline = np.nanmean(binned_Ca_baseline, axis=1)\n"
     ]
    },
    {
     "name": "stdout",
     "output_type": "stream",
     "text": [
      "Mean14\n",
      "0.8636289194869816\n"
     ]
    },
    {
     "name": "stderr",
     "output_type": "stream",
     "text": [
      "C:\\Users\\dinhha\\AppData\\Local\\Temp\\ipykernel_14704\\2725347921.py:77: RuntimeWarning: Mean of empty slice\n",
      "  binned_Ca_baseline = np.nanmean(binned_Ca_baseline, axis=1)\n"
     ]
    },
    {
     "name": "stdout",
     "output_type": "stream",
     "text": [
      "Mean15\n",
      "0.8422955432591257\n"
     ]
    },
    {
     "name": "stderr",
     "output_type": "stream",
     "text": [
      "C:\\Users\\dinhha\\AppData\\Local\\Temp\\ipykernel_14704\\2725347921.py:77: RuntimeWarning: Mean of empty slice\n",
      "  binned_Ca_baseline = np.nanmean(binned_Ca_baseline, axis=1)\n"
     ]
    },
    {
     "name": "stdout",
     "output_type": "stream",
     "text": [
      "Mean16\n",
      "0.9138206580019731\n"
     ]
    },
    {
     "name": "stderr",
     "output_type": "stream",
     "text": [
      "C:\\Users\\dinhha\\AppData\\Local\\Temp\\ipykernel_14704\\2725347921.py:77: RuntimeWarning: Mean of empty slice\n",
      "  binned_Ca_baseline = np.nanmean(binned_Ca_baseline, axis=1)\n",
      "C:\\Users\\dinhha\\AppData\\Local\\Temp\\ipykernel_14704\\2725347921.py:77: RuntimeWarning: Mean of empty slice\n",
      "  binned_Ca_baseline = np.nanmean(binned_Ca_baseline, axis=1)\n"
     ]
    },
    {
     "name": "stdout",
     "output_type": "stream",
     "text": [
      "Mean17\n",
      "0.8490299403766138\n",
      "Mean18\n",
      "0.8535390125680951\n"
     ]
    },
    {
     "name": "stderr",
     "output_type": "stream",
     "text": [
      "C:\\Users\\dinhha\\AppData\\Local\\Temp\\ipykernel_14704\\2725347921.py:77: RuntimeWarning: Mean of empty slice\n",
      "  binned_Ca_baseline = np.nanmean(binned_Ca_baseline, axis=1)\n"
     ]
    },
    {
     "name": "stdout",
     "output_type": "stream",
     "text": [
      "Mean19\n",
      "0.894014155192382\n",
      "Mean2\n",
      "0.8379422639728905\n"
     ]
    },
    {
     "name": "stderr",
     "output_type": "stream",
     "text": [
      "C:\\Users\\dinhha\\AppData\\Local\\Temp\\ipykernel_14704\\2725347921.py:77: RuntimeWarning: Mean of empty slice\n",
      "  binned_Ca_baseline = np.nanmean(binned_Ca_baseline, axis=1)\n"
     ]
    },
    {
     "name": "stdout",
     "output_type": "stream",
     "text": [
      "Mean20\n",
      "0.8633582550508299\n"
     ]
    },
    {
     "name": "stderr",
     "output_type": "stream",
     "text": [
      "C:\\Users\\dinhha\\AppData\\Local\\Temp\\ipykernel_14704\\2725347921.py:77: RuntimeWarning: Mean of empty slice\n",
      "  binned_Ca_baseline = np.nanmean(binned_Ca_baseline, axis=1)\n"
     ]
    },
    {
     "name": "stdout",
     "output_type": "stream",
     "text": [
      "Mean21\n",
      "0.9163986616909021\n"
     ]
    },
    {
     "name": "stderr",
     "output_type": "stream",
     "text": [
      "C:\\Users\\dinhha\\AppData\\Local\\Temp\\ipykernel_14704\\2725347921.py:77: RuntimeWarning: Mean of empty slice\n",
      "  binned_Ca_baseline = np.nanmean(binned_Ca_baseline, axis=1)\n"
     ]
    },
    {
     "name": "stdout",
     "output_type": "stream",
     "text": [
      "Mean22\n",
      "0.896721271393643\n"
     ]
    },
    {
     "name": "stderr",
     "output_type": "stream",
     "text": [
      "C:\\Users\\dinhha\\AppData\\Local\\Temp\\ipykernel_14704\\2725347921.py:77: RuntimeWarning: Mean of empty slice\n",
      "  binned_Ca_baseline = np.nanmean(binned_Ca_baseline, axis=1)\n"
     ]
    },
    {
     "name": "stdout",
     "output_type": "stream",
     "text": [
      "Mean3\n",
      "0.7791480289966972\n",
      "Mean4\n",
      "0.8148777935057693\n",
      "Mean5\n",
      "0.8047534422854202\n",
      "Mean6\n",
      "0.8098851284690944\n",
      "Mean7\n",
      "0.8319117659674862\n"
     ]
    },
    {
     "name": "stderr",
     "output_type": "stream",
     "text": [
      "C:\\Users\\dinhha\\AppData\\Local\\Temp\\ipykernel_14704\\2725347921.py:77: RuntimeWarning: Mean of empty slice\n",
      "  binned_Ca_baseline = np.nanmean(binned_Ca_baseline, axis=1)\n",
      "C:\\Users\\dinhha\\AppData\\Local\\Temp\\ipykernel_14704\\2725347921.py:77: RuntimeWarning: Mean of empty slice\n",
      "  binned_Ca_baseline = np.nanmean(binned_Ca_baseline, axis=1)\n"
     ]
    },
    {
     "name": "stdout",
     "output_type": "stream",
     "text": [
      "Mean8\n",
      "0.8560538755200962\n"
     ]
    },
    {
     "name": "stderr",
     "output_type": "stream",
     "text": [
      "C:\\Users\\dinhha\\AppData\\Local\\Temp\\ipykernel_14704\\2725347921.py:77: RuntimeWarning: Mean of empty slice\n",
      "  binned_Ca_baseline = np.nanmean(binned_Ca_baseline, axis=1)\n"
     ]
    },
    {
     "name": "stdout",
     "output_type": "stream",
     "text": [
      "Mean9\n",
      "0.7738373868656974\n",
      "230227_slice04_ttap2_isra_ctrl_results.csv\n",
      "Mean1\n",
      "0.9536836426605096\n"
     ]
    },
    {
     "name": "stderr",
     "output_type": "stream",
     "text": [
      "C:\\Users\\dinhha\\AppData\\Local\\Temp\\ipykernel_14704\\2725347921.py:77: RuntimeWarning: Mean of empty slice\n",
      "  binned_Ca_baseline = np.nanmean(binned_Ca_baseline, axis=1)\n",
      "C:\\Users\\dinhha\\AppData\\Local\\Temp\\ipykernel_14704\\2725347921.py:77: RuntimeWarning: Mean of empty slice\n",
      "  binned_Ca_baseline = np.nanmean(binned_Ca_baseline, axis=1)\n"
     ]
    },
    {
     "name": "stdout",
     "output_type": "stream",
     "text": [
      "Mean2\n",
      "0.823836737412308\n"
     ]
    },
    {
     "name": "stderr",
     "output_type": "stream",
     "text": [
      "C:\\Users\\dinhha\\AppData\\Local\\Temp\\ipykernel_14704\\2725347921.py:77: RuntimeWarning: Mean of empty slice\n",
      "  binned_Ca_baseline = np.nanmean(binned_Ca_baseline, axis=1)\n"
     ]
    },
    {
     "name": "stdout",
     "output_type": "stream",
     "text": [
      "Mean3\n",
      "0.9039863244827281\n",
      "Mean4\n",
      "0.9193128052570819\n"
     ]
    },
    {
     "name": "stderr",
     "output_type": "stream",
     "text": [
      "C:\\Users\\dinhha\\AppData\\Local\\Temp\\ipykernel_14704\\2725347921.py:77: RuntimeWarning: Mean of empty slice\n",
      "  binned_Ca_baseline = np.nanmean(binned_Ca_baseline, axis=1)\n",
      "C:\\Users\\dinhha\\AppData\\Local\\Temp\\ipykernel_14704\\2725347921.py:77: RuntimeWarning: Mean of empty slice\n",
      "  binned_Ca_baseline = np.nanmean(binned_Ca_baseline, axis=1)\n"
     ]
    },
    {
     "name": "stdout",
     "output_type": "stream",
     "text": [
      "Mean5\n",
      "0.8283778971672142\n",
      "Mean6\n",
      "0.8534947606784478\n"
     ]
    },
    {
     "name": "stderr",
     "output_type": "stream",
     "text": [
      "C:\\Users\\dinhha\\AppData\\Local\\Temp\\ipykernel_14704\\2725347921.py:77: RuntimeWarning: Mean of empty slice\n",
      "  binned_Ca_baseline = np.nanmean(binned_Ca_baseline, axis=1)\n"
     ]
    },
    {
     "name": "stdout",
     "output_type": "stream",
     "text": [
      "Mean7\n",
      "0.9601031435929314\n",
      "230228_slice03_ttap2_isra_results.csv\n",
      "Mean1\n",
      "0.7539603744149765\n"
     ]
    },
    {
     "name": "stderr",
     "output_type": "stream",
     "text": [
      "C:\\Users\\dinhha\\AppData\\Local\\Temp\\ipykernel_14704\\2725347921.py:77: RuntimeWarning: Mean of empty slice\n",
      "  binned_Ca_baseline = np.nanmean(binned_Ca_baseline, axis=1)\n"
     ]
    },
    {
     "name": "stdout",
     "output_type": "stream",
     "text": [
      "Mean10\n",
      "0.8418016492088255\n"
     ]
    },
    {
     "name": "stderr",
     "output_type": "stream",
     "text": [
      "C:\\Users\\dinhha\\AppData\\Local\\Temp\\ipykernel_14704\\2725347921.py:77: RuntimeWarning: Mean of empty slice\n",
      "  binned_Ca_baseline = np.nanmean(binned_Ca_baseline, axis=1)\n",
      "C:\\Users\\dinhha\\AppData\\Local\\Temp\\ipykernel_14704\\2725347921.py:77: RuntimeWarning: Mean of empty slice\n",
      "  binned_Ca_baseline = np.nanmean(binned_Ca_baseline, axis=1)\n"
     ]
    },
    {
     "name": "stdout",
     "output_type": "stream",
     "text": [
      "Mean11\n",
      "0.8778023623802095\n"
     ]
    },
    {
     "name": "stderr",
     "output_type": "stream",
     "text": [
      "C:\\Users\\dinhha\\AppData\\Local\\Temp\\ipykernel_14704\\2725347921.py:77: RuntimeWarning: Mean of empty slice\n",
      "  binned_Ca_baseline = np.nanmean(binned_Ca_baseline, axis=1)\n"
     ]
    },
    {
     "name": "stdout",
     "output_type": "stream",
     "text": [
      "Mean12\n",
      "0.7940080677512815\n"
     ]
    },
    {
     "name": "stderr",
     "output_type": "stream",
     "text": [
      "C:\\Users\\dinhha\\AppData\\Local\\Temp\\ipykernel_14704\\2725347921.py:77: RuntimeWarning: Mean of empty slice\n",
      "  binned_Ca_baseline = np.nanmean(binned_Ca_baseline, axis=1)\n"
     ]
    },
    {
     "name": "stdout",
     "output_type": "stream",
     "text": [
      "Mean13\n",
      "0.8399361265879205\n"
     ]
    },
    {
     "name": "stderr",
     "output_type": "stream",
     "text": [
      "C:\\Users\\dinhha\\AppData\\Local\\Temp\\ipykernel_14704\\2725347921.py:77: RuntimeWarning: Mean of empty slice\n",
      "  binned_Ca_baseline = np.nanmean(binned_Ca_baseline, axis=1)\n"
     ]
    },
    {
     "name": "stdout",
     "output_type": "stream",
     "text": [
      "Mean14\n",
      "0.7515070202808112\n",
      "Mean19\n",
      "0.8532324047247605\n",
      "Mean2\n",
      "0.8293674615556053\n",
      "Mean20\n",
      "0.8637880098061065\n",
      "Mean21\n",
      "0.8596600846891019\n"
     ]
    },
    {
     "name": "stderr",
     "output_type": "stream",
     "text": [
      "C:\\Users\\dinhha\\AppData\\Local\\Temp\\ipykernel_14704\\2725347921.py:77: RuntimeWarning: Mean of empty slice\n",
      "  binned_Ca_baseline = np.nanmean(binned_Ca_baseline, axis=1)\n"
     ]
    },
    {
     "name": "stdout",
     "output_type": "stream",
     "text": [
      "Mean22\n",
      "0.8375148651660352\n",
      "Mean23\n",
      "0.8613377312235347\n",
      "Mean24\n",
      "0.8906353019835078\n"
     ]
    },
    {
     "name": "stderr",
     "output_type": "stream",
     "text": [
      "C:\\Users\\dinhha\\AppData\\Local\\Temp\\ipykernel_14704\\2725347921.py:77: RuntimeWarning: Mean of empty slice\n",
      "  binned_Ca_baseline = np.nanmean(binned_Ca_baseline, axis=1)\n"
     ]
    },
    {
     "name": "stdout",
     "output_type": "stream",
     "text": [
      "Mean3\n",
      "0.7667586360597283\n",
      "Mean4\n",
      "0.7904959661243594\n"
     ]
    },
    {
     "name": "stderr",
     "output_type": "stream",
     "text": [
      "C:\\Users\\dinhha\\AppData\\Local\\Temp\\ipykernel_14704\\2725347921.py:77: RuntimeWarning: Mean of empty slice\n",
      "  binned_Ca_baseline = np.nanmean(binned_Ca_baseline, axis=1)\n"
     ]
    },
    {
     "name": "stdout",
     "output_type": "stream",
     "text": [
      "Mean5\n",
      "0.7748143525741029\n"
     ]
    },
    {
     "name": "stderr",
     "output_type": "stream",
     "text": [
      "C:\\Users\\dinhha\\AppData\\Local\\Temp\\ipykernel_14704\\2725347921.py:77: RuntimeWarning: Mean of empty slice\n",
      "  binned_Ca_baseline = np.nanmean(binned_Ca_baseline, axis=1)\n"
     ]
    },
    {
     "name": "stdout",
     "output_type": "stream",
     "text": [
      "Mean6\n",
      "0.8240685090260753\n",
      "Mean7\n",
      "0.7950390907064855\n"
     ]
    },
    {
     "name": "stderr",
     "output_type": "stream",
     "text": [
      "C:\\Users\\dinhha\\AppData\\Local\\Temp\\ipykernel_14704\\2725347921.py:77: RuntimeWarning: Mean of empty slice\n",
      "  binned_Ca_baseline = np.nanmean(binned_Ca_baseline, axis=1)\n"
     ]
    },
    {
     "name": "stdout",
     "output_type": "stream",
     "text": [
      "Mean8\n",
      "0.8209904167595277\n"
     ]
    },
    {
     "name": "stderr",
     "output_type": "stream",
     "text": [
      "C:\\Users\\dinhha\\AppData\\Local\\Temp\\ipykernel_14704\\2725347921.py:77: RuntimeWarning: Mean of empty slice\n",
      "  binned_Ca_baseline = np.nanmean(binned_Ca_baseline, axis=1)\n"
     ]
    },
    {
     "name": "stdout",
     "output_type": "stream",
     "text": [
      "Mean9\n",
      "0.8291649208825497\n"
     ]
    },
    {
     "name": "stderr",
     "output_type": "stream",
     "text": [
      "C:\\Users\\dinhha\\AppData\\Local\\Temp\\ipykernel_14704\\2725347921.py:77: RuntimeWarning: Mean of empty slice\n",
      "  binned_Ca_baseline = np.nanmean(binned_Ca_baseline, axis=1)\n"
     ]
    },
    {
     "name": "stdout",
     "output_type": "stream",
     "text": [
      "230228_slice04_ttap2_isra_ctrl_results.csv\n",
      "Mean1\n",
      "0.9157637631892632\n"
     ]
    },
    {
     "name": "stderr",
     "output_type": "stream",
     "text": [
      "C:\\Users\\dinhha\\AppData\\Local\\Temp\\ipykernel_14704\\2725347921.py:77: RuntimeWarning: Mean of empty slice\n",
      "  binned_Ca_baseline = np.nanmean(binned_Ca_baseline, axis=1)\n"
     ]
    },
    {
     "name": "stdout",
     "output_type": "stream",
     "text": [
      "Mean2\n",
      "0.872513001633482\n"
     ]
    },
    {
     "name": "stderr",
     "output_type": "stream",
     "text": [
      "C:\\Users\\dinhha\\AppData\\Local\\Temp\\ipykernel_14704\\2725347921.py:77: RuntimeWarning: Mean of empty slice\n",
      "  binned_Ca_baseline = np.nanmean(binned_Ca_baseline, axis=1)\n"
     ]
    },
    {
     "name": "stdout",
     "output_type": "stream",
     "text": [
      "Mean3\n",
      "0.7839372654628937\n"
     ]
    },
    {
     "name": "stderr",
     "output_type": "stream",
     "text": [
      "C:\\Users\\dinhha\\AppData\\Local\\Temp\\ipykernel_14704\\2725347921.py:77: RuntimeWarning: Mean of empty slice\n",
      "  binned_Ca_baseline = np.nanmean(binned_Ca_baseline, axis=1)\n"
     ]
    },
    {
     "name": "stdout",
     "output_type": "stream",
     "text": [
      "Mean4\n",
      "0.8476609862699218\n"
     ]
    },
    {
     "name": "stderr",
     "output_type": "stream",
     "text": [
      "C:\\Users\\dinhha\\AppData\\Local\\Temp\\ipykernel_14704\\2725347921.py:77: RuntimeWarning: Mean of empty slice\n",
      "  binned_Ca_baseline = np.nanmean(binned_Ca_baseline, axis=1)\n"
     ]
    },
    {
     "name": "stdout",
     "output_type": "stream",
     "text": [
      "230302_slice08_ttap2_isra_results.csv\n",
      "Mean1\n",
      "0.7340784988810466\n",
      "Mean10\n",
      "0.7516301428817352\n",
      "Mean11\n",
      "0.7801760199690136\n",
      "Mean13\n",
      "0.7623974436219659\n",
      "Mean14\n",
      "0.7791440006885868\n",
      "Mean15\n",
      "0.754790626613875\n",
      "Mean16\n",
      "0.7715369254604924\n"
     ]
    },
    {
     "name": "stderr",
     "output_type": "stream",
     "text": [
      "C:\\Users\\dinhha\\AppData\\Local\\Temp\\ipykernel_14704\\2725347921.py:77: RuntimeWarning: Mean of empty slice\n",
      "  binned_Ca_baseline = np.nanmean(binned_Ca_baseline, axis=1)\n"
     ]
    },
    {
     "name": "stdout",
     "output_type": "stream",
     "text": [
      "Mean17\n",
      "0.7555025391633673\n",
      "Mean2\n",
      "0.7797679462902394\n"
     ]
    },
    {
     "name": "stderr",
     "output_type": "stream",
     "text": [
      "C:\\Users\\dinhha\\AppData\\Local\\Temp\\ipykernel_14704\\2725347921.py:77: RuntimeWarning: Mean of empty slice\n",
      "  binned_Ca_baseline = np.nanmean(binned_Ca_baseline, axis=1)\n",
      "C:\\Users\\dinhha\\AppData\\Local\\Temp\\ipykernel_14704\\2725347921.py:77: RuntimeWarning: Mean of empty slice\n",
      "  binned_Ca_baseline = np.nanmean(binned_Ca_baseline, axis=1)\n"
     ]
    },
    {
     "name": "stdout",
     "output_type": "stream",
     "text": [
      "Mean3\n",
      "0.7666846273024618\n"
     ]
    },
    {
     "name": "stderr",
     "output_type": "stream",
     "text": [
      "C:\\Users\\dinhha\\AppData\\Local\\Temp\\ipykernel_14704\\2725347921.py:77: RuntimeWarning: Mean of empty slice\n",
      "  binned_Ca_baseline = np.nanmean(binned_Ca_baseline, axis=1)\n",
      "C:\\Users\\dinhha\\AppData\\Local\\Temp\\ipykernel_14704\\2725347921.py:77: RuntimeWarning: Mean of empty slice\n",
      "  binned_Ca_baseline = np.nanmean(binned_Ca_baseline, axis=1)\n",
      "C:\\Users\\dinhha\\AppData\\Local\\Temp\\ipykernel_14704\\2725347921.py:77: RuntimeWarning: Mean of empty slice\n",
      "  binned_Ca_baseline = np.nanmean(binned_Ca_baseline, axis=1)\n"
     ]
    },
    {
     "name": "stdout",
     "output_type": "stream",
     "text": [
      "Mean4\n",
      "0.7045988552246515\n"
     ]
    },
    {
     "name": "stderr",
     "output_type": "stream",
     "text": [
      "C:\\Users\\dinhha\\AppData\\Local\\Temp\\ipykernel_14704\\2725347921.py:77: RuntimeWarning: Mean of empty slice\n",
      "  binned_Ca_baseline = np.nanmean(binned_Ca_baseline, axis=1)\n"
     ]
    },
    {
     "name": "stdout",
     "output_type": "stream",
     "text": [
      "Mean5\n",
      "0.7054476674126355\n",
      "Mean6\n",
      "0.7559533482527112\n"
     ]
    },
    {
     "name": "stderr",
     "output_type": "stream",
     "text": [
      "C:\\Users\\dinhha\\AppData\\Local\\Temp\\ipykernel_14704\\2725347921.py:77: RuntimeWarning: Mean of empty slice\n",
      "  binned_Ca_baseline = np.nanmean(binned_Ca_baseline, axis=1)\n"
     ]
    },
    {
     "name": "stdout",
     "output_type": "stream",
     "text": [
      "Mean7\n",
      "0.7704618264761577\n"
     ]
    },
    {
     "name": "stderr",
     "output_type": "stream",
     "text": [
      "C:\\Users\\dinhha\\AppData\\Local\\Temp\\ipykernel_14704\\2725347921.py:77: RuntimeWarning: Mean of empty slice\n",
      "  binned_Ca_baseline = np.nanmean(binned_Ca_baseline, axis=1)\n"
     ]
    },
    {
     "name": "stdout",
     "output_type": "stream",
     "text": [
      "Mean8\n",
      "0.7464356171458082\n"
     ]
    },
    {
     "name": "stderr",
     "output_type": "stream",
     "text": [
      "C:\\Users\\dinhha\\AppData\\Local\\Temp\\ipykernel_14704\\2725347921.py:77: RuntimeWarning: Mean of empty slice\n",
      "  binned_Ca_baseline = np.nanmean(binned_Ca_baseline, axis=1)\n"
     ]
    },
    {
     "name": "stdout",
     "output_type": "stream",
     "text": [
      "Mean9\n",
      "0.7339641074195214\n"
     ]
    }
   ],
   "source": [
    "# Process recordings from data files\n",
    "# The DataFrame \"conditions\" will contain all information about conditions\n",
    "# data is \"start corrected\"\n",
    "data_1 = pd.DataFrame()\n",
    "\n",
    "data_info = pd.DataFrame()\n",
    "\n",
    "\n",
    "print(f\"Processing recordings contained in {filename_1}:\")\n",
    "\n",
    "for recording in data_pkl_1.recordings:\n",
    "    print(recording)\n",
    "    \n",
    "    r = data_pkl_1.recordings[recording]\n",
    "\n",
    "    info = {desc: r.information[desc] for desc in r.information}\n",
    "    \n",
    "    for cell in r.cells:\n",
    "        c = r.cells[cell]\n",
    "        \n",
    "        if c.use:\n",
    "            print(c.cell_id)\n",
    "            print(c.raw_data.mean())\n",
    "            raw_data = c.raw_data\n",
    "\n",
    "            cell_binned = pd.DataFrame()\n",
    "            last_frame = 0\n",
    "            burst_list = [x.frame for x in c.baseline if x.use] # Get list of burst frames\n",
    "            \n",
    "            baseline_list = range(0, len(c.raw_data))\n",
    "            baseline_list = [x for x in baseline_list if x not in burst_list] # Get list of baseline frames\n",
    "            \n",
    "            # list of raw baseline values\n",
    "            c_raw_baseline = [c.raw_data[int(i)] if i in baseline_list else np.nan for i in range(0, len(c.raw_data))] \n",
    "        \n",
    "        \n",
    "\n",
    "            for con in r.conditions:\n",
    "                info[\"recording\"] = recording\n",
    "                info[\"start\"] = int(con.start)\n",
    "                info[\"end\"] = int(con.end)\n",
    "                start = int(con.start)\n",
    "                end = int(con.end)\n",
    "                info[\"cell\"] = cell\n",
    "                info[\"dt\"] = r.dt # Add \"dt\" aka seconds/frame\n",
    "                info[\"date\"] = info[\"recording\"][0:6]\n",
    "                \n",
    "                info.update({desc: con.information[desc] for desc in con.information}) # Add all further condition variables\n",
    "                data_info = pd.concat((data_info, pd.DataFrame.from_dict(info,orient='index').T))\n",
    "                pos_len = (int(con.end) - int(con.start))*r.dt/60\n",
    "                            \n",
    "                a = np.empty(0)\n",
    "\n",
    "                if info[\"pos\"] == \"1\":\n",
    "                    start = int(end-300/r.dt) #take last 5 min of pos 1\n",
    "                \n",
    "                if info[\"pos\"] == \"4\":\n",
    "                    if len(c.raw_data[start:end]) < 6000:\n",
    "                        a = np.empty(6000-len(c.raw_data[start:end]))\n",
    "                        a[:] = np.nan\n",
    "                    pos_len = 10 #10 mins\n",
    "                    end = int(int(con.start) + 600/r.dt)\n",
    "                \n",
    "                                  \n",
    "                calcium_baseline_array = np.concatenate((c_raw_baseline[start:end], a), axis=None)\n",
    "                \n",
    "                binned_Ca_baseline = calcium(calcium_baseline_array, \n",
    "                                           kd, R_max, R_min, sf2_by_sb2).reshape(-1, 600) #group to bin 1min\n",
    "        \n",
    "                #drop bin if less then 10 s of data\n",
    "                binned_Ca_baseline = [i.tolist() if len(i)-np.count_nonzero(np.isnan(i)) >= 10*r.dt \\\n",
    "                                   else [np.nan for j in i]\\\n",
    "                                      for i in binned_Ca_baseline] \n",
    "                \n",
    "\n",
    "                #calculate mean per bin, ignore nan\n",
    "                binned_Ca_baseline = np.nanmean(binned_Ca_baseline, axis=1)\n",
    "                \n",
    "                \n",
    "               \n",
    "                \n",
    "                                \n",
    "                if info[\"pos\"] == \"1\":\n",
    "                    binned_Ca_bb = pd.DataFrame({'baseline_ca': binned_Ca_baseline},\\\n",
    "                                                index=[*np.arange(-4, 1, 1)]) #bin 1min\n",
    "                else:\n",
    "                    binned_Ca_bb = pd.DataFrame({'baseline_ca': binned_Ca_baseline},\\\n",
    "                                                      index=[*np.arange(last_frame+1, last_frame+pos_len+1, 1)]) #bin 1min\n",
    "                    last_frame = last_frame+10\n",
    "                    \n",
    "                binned_Ca_bb[\"pos\"] = info[\"pos\"]\n",
    "                cell_binned = pd.concat((cell_binned, binned_Ca_bb))\n",
    "                            \n",
    "            cell_binned[\"cell\"] = cell\n",
    "            cell_binned[\"recording\"] = recording\n",
    "            cell_binned[\"animal\"] = info[\"animal\"]\n",
    "            cell_binned[\"ctrl\"] = info[\"ctrl\"]\n",
    "            cell_binned = cell_binned.reset_index().rename(columns={\"index\": \"bin\"})\n",
    "            data_1 = pd.concat((data_1, cell_binned), ignore_index=True)\n",
    "\n",
    "                \n",
    "\n",
    "                \n",
    "                "
   ]
  },
  {
   "cell_type": "code",
   "execution_count": 9,
   "id": "6337bb9a",
   "metadata": {},
   "outputs": [],
   "source": [
    "data_1.to_csv(\"doppel_perf_fura_bbCa_binned.csv\")"
   ]
  },
  {
   "cell_type": "code",
   "execution_count": 10,
   "id": "92ec5212",
   "metadata": {},
   "outputs": [],
   "source": [
    "data_1 = pd.read_csv(\"doppel_perf_fura_bbCa_binned.csv\", index_col=\"Unnamed: 0\")"
   ]
  },
  {
   "cell_type": "code",
   "execution_count": 12,
   "id": "c78727e7",
   "metadata": {},
   "outputs": [
    {
     "data": {
      "image/png": "[encoded data removed]",
      "text/plain": [
       "<Figure size 380x200 with 1 Axes>"
      ]
     },
     "metadata": {},
     "output_type": "display_data"
    }
   ],
   "source": [
    "fig1, ax1 = plt.subplots(figsize=(3.8,2))\n",
    "\n",
    "y_cat1 = \"baseline_ca\"\n",
    "\n",
    "y_cat2 = \"burst_ca\"\n",
    "\n",
    "##### baseline\n",
    "\n",
    "sns.lineplot(data=data_1[data_1[\"ctrl\"]==\"n\"], x=\"bin\", y=y_cat1,\n",
    "             errorbar=(\"ci\",95),\n",
    "             n_boot=n_boot, seed=seed,\n",
    "             marker =\"s\", ms = 5,\n",
    "                 color=color_palette[0], ax=ax1, zorder=10, label=\"WT baseline Ca$^{2+}$\")\n",
    "\n",
    "sns.lineplot(data=data_1[data_1[\"ctrl\"]==\"y\"], x=\"bin\", y=y_cat1,\n",
    "             errorbar=(\"ci\",95),\n",
    "             n_boot=n_boot, seed=seed,\n",
    "             marker =\"s\", ms = 5,\n",
    "                 color=\"grey\", ax=ax1, zorder=1, label=\"WT ctrl baseline Ca$^{2+}$\")   \n",
    "\n",
    "\n",
    "\n",
    "\n",
    "    \n",
    "# Create a Rectangle patch isra/ttap2\n",
    "\n",
    "ax1.add_patch(plt.Rectangle((0, 1200),20, 48, facecolor='w', linewidth=1, edgecolor = \"black\", \n",
    "                              clip_on=False, zorder=20))\n",
    "plt.text(0.2, 1205, \"100 pmol/l Ang II\", ha=\"left\", color=\"black\", zorder=25, size=8) \n",
    "\n",
    "ax1.add_patch(plt.Rectangle((20, 1200),10, 48, facecolor='w', linewidth=1, edgecolor = \"black\", \n",
    "                              clip_on=False, zorder=20))\n",
    "plt.text(20.3, 1205, \"500 pmol/l\", ha=\"left\", color=\"black\", zorder=25, size=8) \n",
    "\n",
    "ax1.add_patch(plt.Rectangle((10, 1140),20, 48, facecolor='w', linewidth=1, edgecolor = \"black\", \n",
    "                              clip_on=False, zorder=20))\n",
    "plt.text(10.4, 1150, \"TTA-P2 + Isradipine\", ha=\"left\", color=\"black\", zorder=25, size=8) \n",
    "\n",
    "ax1.add_patch(plt.Rectangle((-3,690),3, 6, facecolor='black', linewidth=1, edgecolor = \"black\", \n",
    "                              clip_on=False, zorder=0))\n",
    "ax1.add_patch(plt.Rectangle((7,690),3, 6, facecolor='black', linewidth=1, edgecolor = \"black\", \n",
    "                              clip_on=False, zorder=0))\n",
    "ax1.add_patch(plt.Rectangle((17,690),3, 6, facecolor='black', linewidth=1, edgecolor = \"black\", \n",
    "                              clip_on=False, zorder=0))\n",
    "ax1.add_patch(plt.Rectangle((27,690),3, 6, facecolor='black', linewidth=1, edgecolor = \"black\", \n",
    "                              clip_on=False, zorder=0))\n",
    "\n",
    "sns.despine(top=True, right=True)\n",
    "\n",
    "#ax1.set_xlabel(\"bins (min)\")\n",
    "#ax1.set_ylabel(\"Mean [Ca$^{2+}$]$_i$ (nmol/l)\")\n",
    "\n",
    "plt.legend(loc='upper right', bbox_to_anchor=(1.6, 1))\n",
    "\n",
    "plt.xlim(-6,30.5)\n",
    "plt.ylim(650,1250)\n"
   ]
  },
  {
   "cell_type": "code",
   "execution_count": null,
   "id": "bc9c404a",
   "metadata": {},
   "outputs": [],
   "source": []
  }
 ],
 "metadata": {
  "kernelspec": {
   "display_name": "Python 3 (ipykernel)",
   "language": "python",
   "name": "python3"
  },
  "language_info": {
   "codemirror_mode": {
    "name": "ipython",
    "version": 3
   },
   "file_extension": ".py",
   "mimetype": "text/x-python",
   "name": "python",
   "nbconvert_exporter": "python",
   "pygments_lexer": "ipython3",
   "version": "3.10.9"
  }
 },
 "nbformat": 4,
 "nbformat_minor": 5
}
