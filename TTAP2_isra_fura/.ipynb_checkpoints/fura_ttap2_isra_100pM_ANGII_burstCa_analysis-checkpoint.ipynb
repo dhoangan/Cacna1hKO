{
 "cells": [
  {
   "cell_type": "code",
   "execution_count": 1,
   "id": "7d907e1a",
   "metadata": {},
   "outputs": [],
   "source": [
    "import calim\n",
    "import matplotlib.pyplot as plt\n",
    "import matplotlib\n",
    "import seaborn as sns\n",
    "import pickle\n",
    "import pandas as pd\n",
    "import numpy as np\n",
    "from scipy.stats import mannwhitneyu\n",
    "\n",
    "color_palette = sns.color_palette(\"colorblind\")\n",
    "sns.set_theme(palette=color_palette, font=\"Arial\", font_scale=1.0, style=\"white\")\n",
    "\n",
    "# number of iterations and seed for bootstrapping during calculation of confidence intervals\n",
    "n_boot = 10000\n",
    "seed = 10"
   ]
  },
  {
   "cell_type": "code",
   "execution_count": 2,
   "id": "cd852ca3",
   "metadata": {},
   "outputs": [],
   "source": [
    "#Stand Kalibration 10.03.2020 für das Scientifica-Setup\n",
    "# mit Korrektur vom 19.05.2021 (ab hier zu verwenden)\n",
    "kd = 417.1324107961717\n",
    "R_max = 1.9267297757725788*1.305670312829699\n",
    "R_min = 0.27585714285714286*0.8222568831620652\n",
    "sf2_by_sb2 = 2273/413\n",
    "\n",
    "\n",
    "\n",
    "def calcium(data, kd, R_max, R_min, sf2_by_sb2):\n",
    "    return kd*((data-R_min)/(R_max-data))*sf2_by_sb2"
   ]
  },
  {
   "cell_type": "code",
   "execution_count": 3,
   "id": "8d068227",
   "metadata": {},
   "outputs": [
    {
     "name": "stdout",
     "output_type": "stream",
     "text": [
      "Processing recordings contained in doppel_perf_fura_data+ctrl_burst_selection_230601.hdf:\n",
      "230223_slice03_ttap2_isra_ctrl_results.csv\n",
      "230223_slice04_ttap2_isra_results.csv\n",
      "230224_slice01_ttap2_isra_ctrl_results.csv\n",
      "230224_slice04_ttap2_isra_results.csv\n",
      "230224_slice06_ttap2_isra_ctrl_results.csv\n",
      "230227_slice03_ttap2_isra_results.csv\n",
      "230227_slice04_ttap2_isra_ctrl_results.csv\n",
      "230228_slice03_ttap2_isra_results.csv\n",
      "230228_slice04_ttap2_isra_ctrl_results.csv\n",
      "230302_slice08_ttap2_isra_results.csv\n",
      "Done.\n"
     ]
    }
   ],
   "source": [
    "filename_isra = \"doppel_perf_fura_data+ctrl_burst_selection_230601.hdf\"\n",
    "data_hdf_isra = calim.Project()\n",
    "data_hdf_isra.from_hdf(filename_isra)\n",
    "\n",
    "# The DataFrame \"conditions\" will contain all information about conditions\n",
    "data_isra = pd.DataFrame()\n",
    "print(f\"Processing recordings contained in {filename_isra}:\")\n",
    "\n",
    "for recording in data_hdf_isra.recordings:\n",
    "    print(recording)\n",
    "    \n",
    "    r = data_hdf_isra.recordings[recording]\n",
    "\n",
    "    info = {desc: r.information[desc] for desc in r.information}\n",
    "    \n",
    "    for cell in r.cells:\n",
    "        c = r.cells[cell]\n",
    "        if c.use:\n",
    "            \n",
    "            burst_list = [x.frame for x in c.baseline if x.use] # Get list of baseline frames\n",
    "            \n",
    "            for con in r.conditions:\n",
    "                burst_selection = []\n",
    "                baseline_selection = []\n",
    "\n",
    "                info[\"recording\"] = recording\n",
    "                info[\"start\"] = int(con.start)\n",
    "                info[\"end\"] = int(con.end)\n",
    "                info[\"start_corr\"] = int(con.end) - int(240/r.dt)\n",
    "                info[\"cell\"] = cell\n",
    "                info[\"dt\"] = r.dt # Add \"dt\" aka seconds/frame\n",
    "                info.update({desc: con.information[desc] for desc in con.information}) # Add all further condition variables\n",
    "                \n",
    "                baseline_selection = range(info[\"start_corr\"], int(con.end))\n",
    "                baseline_selection = [x for x in baseline_selection if x not in burst_list]\n",
    "                \n",
    "                burst_selection = [int(x) for x in burst_list if (x>= info[\"start_corr\"]) & (x <=info[\"end\"])]\n",
    "\n",
    "                if burst_selection:\n",
    "                    info[\"mean_ca_burst\"] = calcium(np.mean(c.raw_data[burst_selection]), kd, R_max, R_min, sf2_by_sb2)\n",
    "                    info[\"len_burst\"] = len(burst_selection)*r.dt #time spend in burst\n",
    "                else:\n",
    "                    info[\"mean_ca_burst\"] = np.nan\n",
    "                    info[\"len_burst\"] = 0\n",
    "                    \n",
    "                if baseline_selection:\n",
    "                    info[\"mean_ca_baseline\"] = calcium(np.mean(c.raw_data[baseline_selection]), kd, R_max, R_min, sf2_by_sb2)\n",
    "                    info[\"len_baseline\"] = len(baseline_selection)*r.dt #time spend in baseline\n",
    "\n",
    "                else:\n",
    "                    info[\"mean_ca_baseline\"] = np.nan    \n",
    "                    info[\"len_baseline\"] = 0\n",
    "                    \n",
    "                    \n",
    "                    \n",
    "                data_isra = pd.concat([data_isra, pd.Series(info)], axis=1)\n",
    "                \n",
    "    \n",
    "data_isra = data_isra.T   \n",
    "data_isra['mean_ca_burst'] = data_isra['mean_ca_burst'].astype(float)\n",
    "data_isra['angiotensin'] = data_isra['angiotensin'].astype(float)\n",
    "data_isra['percentage_time_baseline'] = data_isra[\"len_baseline\"]/240*100\n",
    "data_isra['percentage_time_burst'] = data_isra[\"len_burst\"]/240*100\n",
    "\n",
    "data_isra = data_isra.reset_index(drop=True)\n",
    "\n",
    "print(\"Done.\")"
   ]
  },
  {
   "cell_type": "code",
   "execution_count": 4,
   "id": "ec8e9900",
   "metadata": {},
   "outputs": [],
   "source": [
    "data_isra.to_csv(\"doppel_perf_fura_bbCa.csv\")"
   ]
  },
  {
   "cell_type": "code",
   "execution_count": null,
   "id": "f3e439af",
   "metadata": {},
   "outputs": [],
   "source": []
  },
  {
   "cell_type": "code",
   "execution_count": null,
   "id": "92e2e464",
   "metadata": {},
   "outputs": [],
   "source": []
  }
 ],
 "metadata": {
  "kernelspec": {
   "display_name": "Python 3 (ipykernel)",
   "language": "python",
   "name": "python3"
  },
  "language_info": {
   "codemirror_mode": {
    "name": "ipython",
    "version": 3
   },
   "file_extension": ".py",
   "mimetype": "text/x-python",
   "name": "python",
   "nbconvert_exporter": "python",
   "pygments_lexer": "ipython3",
   "version": "3.10.9"
  }
 },
 "nbformat": 4,
 "nbformat_minor": 5
}
