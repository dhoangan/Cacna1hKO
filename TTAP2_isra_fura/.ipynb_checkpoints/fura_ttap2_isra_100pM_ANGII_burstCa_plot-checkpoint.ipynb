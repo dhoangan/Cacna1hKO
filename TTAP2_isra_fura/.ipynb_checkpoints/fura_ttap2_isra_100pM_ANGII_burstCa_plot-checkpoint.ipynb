{
 "cells": [
  {
   "cell_type": "code",
   "execution_count": 2,
   "id": "42e3a114",
   "metadata": {},
   "outputs": [],
   "source": [
    "import calim\n",
    "import matplotlib.pyplot as plt\n",
    "import matplotlib\n",
    "import seaborn as sns\n",
    "import pickle\n",
    "import pandas as pd\n",
    "import numpy as np\n",
    "\n",
    "from scipy.optimize import curve_fit\n",
    "import scipy \n",
    "from scipy.stats import sem\n",
    "\n",
    "color_palette = sns.color_palette(\"colorblind\")\n",
    "sns.set_theme(palette=color_palette, font=\"Arial\", font_scale=1.0, style=\"white\")\n",
    "\n",
    "# number of iterations and seed for bootstrapping during calculation of confidence intervals\n",
    "n_boot = 10000\n",
    "seed = 10"
   ]
  },
  {
   "cell_type": "code",
   "execution_count": 3,
   "id": "dce59243",
   "metadata": {},
   "outputs": [],
   "source": [
    "#styles for error and markers in sns.lineplot\n",
    "\n",
    "thin_custom_lw = 1.2\n",
    "custom_lw = thin_custom_lw/0.65\n",
    "\n",
    "filled_marker_style = dict(marker='o',  markersize=5,\n",
    "                           color='k',\n",
    "                           markerfacecolor='w',\n",
    "                           markeredgecolor='k',\n",
    "                          markeredgewidth=thin_custom_lw)\n",
    "\n",
    "filled_marker_style_white = dict(marker='o',  markersize=5,\n",
    "                           color='w',\n",
    "                           markerfacecolor='w',\n",
    "                           markeredgecolor='w',\n",
    "                          markeredgewidth=custom_lw)\n",
    "######################\n",
    "\n",
    "error_style_white = {\"capsize\": 4.4, \n",
    "                \"ecolor\": \"w\",\n",
    "               \"barsabove\":False, \n",
    "               \"elinewidth\":custom_lw, \n",
    "               \"capthick\":custom_lw,\n",
    "                    \"zorder\": 8}\n",
    "\n",
    "error_style = {\"capsize\": 4, \n",
    "                \"ecolor\": \"k\",\n",
    "                \"barsabove\":False, \n",
    "                \"elinewidth\":thin_custom_lw, \n",
    "                \"capthick\":thin_custom_lw,\n",
    "                \"zorder\": 9}\n"
   ]
  },
  {
   "cell_type": "code",
   "execution_count": 4,
   "id": "c8b94db0",
   "metadata": {},
   "outputs": [],
   "source": [
    "data = pd.read_csv(\"doppel_perf_fura_bbCa.csv\", index_col=\"Unnamed: 0\")"
   ]
  },
  {
   "cell_type": "code",
   "execution_count": 5,
   "id": "7b99e88c",
   "metadata": {},
   "outputs": [
    {
     "data": {
      "text/plain": [
       "Text(-1.7, -20, 'Blocker')"
      ]
     },
     "execution_count": 5,
     "metadata": {},
     "output_type": "execute_result"
    },
    {
     "data": {
      "image/png": "[encoded data removed]",
      "text/plain": [
       "<Figure size 200x200 with 1 Axes>"
      ]
     },
     "metadata": {},
     "output_type": "display_data"
    }
   ],
   "source": [
    "#time spend in burst during last 4 min of condition\n",
    "fig, g = plt.subplots(figsize=(2, 2))\n",
    "\n",
    "x_cat = \"pos\"\n",
    "#x_label = \"[Isradipine] (nM)\"\n",
    "y_cat = \"percentage_time_burst\"\n",
    "#y_label = \"Mean baseline Ca$^{2+}$ (nM)\"\n",
    "\n",
    "\n",
    "g = sns.barplot(x=x_cat, y=y_cat, data=data, hue=\"ctrl\", \n",
    "                hue_order=[\"n\", \"y\"],dodge=True, \n",
    "               errorbar=(\"ci\",95),\n",
    "             n_boot=n_boot, seed=seed,\n",
    "               capsize=0.1, \n",
    "                errcolor=\"k\",\n",
    "                errwidth=thin_custom_lw,\n",
    "               palette=[color_palette[0], \"grey\"])\n",
    "\n",
    "\n",
    "\n",
    "g.spines['right'].set_visible(False)\n",
    "g.spines['top'].set_visible(False)\n",
    "\n",
    "plt.legend([],[], frameon=False)\n",
    "g.set_xticklabels([\"0\\n-\", \"100\\n-\", \"100\\n+\", \"500\\n+\"])\n",
    "g.set_ylim([0,100])\n",
    "g.set_ylabel(\"Time spent bursting (%)\")\n",
    "g.set_xlabel(\"\")\n",
    "\n",
    "plt.text(-1.7, -13, \"Ang II (pM)\", ha=\"left\", size=8)\n",
    "plt.text(-1.7, -20, \"Blocker\", ha=\"left\", size=8)\n"
   ]
  },
  {
   "cell_type": "code",
   "execution_count": null,
   "id": "4bdbb04e",
   "metadata": {},
   "outputs": [],
   "source": []
  }
 ],
 "metadata": {
  "kernelspec": {
   "display_name": "Python 3 (ipykernel)",
   "language": "python",
   "name": "python3"
  },
  "language_info": {
   "codemirror_mode": {
    "name": "ipython",
    "version": 3
   },
   "file_extension": ".py",
   "mimetype": "text/x-python",
   "name": "python",
   "nbconvert_exporter": "python",
   "pygments_lexer": "ipython3",
   "version": "3.10.9"
  }
 },
 "nbformat": 4,
 "nbformat_minor": 5
}
